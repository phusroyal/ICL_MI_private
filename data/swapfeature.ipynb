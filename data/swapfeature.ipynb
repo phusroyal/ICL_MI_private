{
 "cells": [
  {
   "cell_type": "code",
   "execution_count": 15,
   "metadata": {},
   "outputs": [],
   "source": [
    "import json\n",
    "\n",
    "file = 'info_15_swap/selection_15.json'\n",
    "file_save = 'info_15_swap/selection_15_swaped.json'\n",
    "with open(file, \"r\") as f:\n",
    "    data = json.load(f)\n",
    "    prompt_data = data[\"prompts_list\"]"
   ]
  },
  {
   "cell_type": "code",
   "execution_count": 12,
   "metadata": {},
   "outputs": [],
   "source": [
    "new_data = []\n",
    "for dataset in prompt_data:\n",
    "    demos = []\n",
    "    for de in dataset:\n",
    "        # split by space\n",
    "        de = de.split()\n",
    "        demos.append(de[1] + \" \" + de[0] + \" \" + de[2] + \" \" + de[3] + \"\\n\")\n",
    "    new_data.append(demos)"
   ]
  },
  {
   "cell_type": "code",
   "execution_count": 44,
   "metadata": {},
   "outputs": [],
   "source": [
    "prompt_data = [\n",
    "    ['a b c', 'd e c', 'g h i', 'j k l'],\n",
    "    ['m n o', 'p q r', 's t u', 'v w x'],\n",
    "    ['y z 1', '2 3 4', '5 6 7', '8 9 0']\n",
    "]\n",
    "\n",
    "prompt_list = []\n",
    "preds = []\n",
    "labels = []\n",
    "for prompt in prompt_data:\n",
    "    labels.append(set([de.split()[-1] for de in prompt]))\n",
    "    p = \" \".join(prompt[:-1])\n",
    "    last_prompt = prompt[-1].split(\" \")\n",
    "    for i in range(0, len(last_prompt)-1):\n",
    "        p += \" \" + last_prompt[i]\n",
    "    prompt_list.append(p)\n",
    "    preds.append(last_prompt[-1])"
   ]
  },
  {
   "cell_type": "code",
   "execution_count": 45,
   "metadata": {},
   "outputs": [
    {
     "data": {
      "text/plain": [
       "[{'c', 'i', 'l'}, {'o', 'r', 'u', 'x'}, {'0', '1', '4', '7'}]"
      ]
     },
     "execution_count": 45,
     "metadata": {},
     "output_type": "execute_result"
    }
   ],
   "source": [
    "labels"
   ]
  },
  {
   "cell_type": "code",
   "execution_count": 16,
   "metadata": {},
   "outputs": [],
   "source": [
    "data2save = {\"prompts_list\": new_data}\n",
    "with open(file_save, \"w\") as json_file:\n",
    "    json.dump(data2save, json_file, indent=4)"
   ]
  }
 ],
 "metadata": {
  "kernelspec": {
   "display_name": "icl_mi",
   "language": "python",
   "name": "python3"
  },
  "language_info": {
   "codemirror_mode": {
    "name": "ipython",
    "version": 3
   },
   "file_extension": ".py",
   "mimetype": "text/x-python",
   "name": "python",
   "nbconvert_exporter": "python",
   "pygments_lexer": "ipython3",
   "version": "3.10.14"
  }
 },
 "nbformat": 4,
 "nbformat_minor": 2
}
