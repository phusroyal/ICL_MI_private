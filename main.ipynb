{
 "cells": [
  {
   "cell_type": "code",
   "execution_count": 1,
   "metadata": {},
   "outputs": [
    {
     "name": "stderr",
     "output_type": "stream",
     "text": [
      "/home/phu.hoang/.conda/envs/icl_mi/lib/python3.10/site-packages/tqdm/auto.py:21: TqdmWarning: IProgress not found. Please update jupyter and ipywidgets. See https://ipywidgets.readthedocs.io/en/stable/user_install.html\n",
      "  from .autonotebook import tqdm as notebook_tqdm\n"
     ]
    },
    {
     "name": "stdout",
     "output_type": "stream",
     "text": [
      "Initializing the model\n",
      "Calculating the information\n"
     ]
    },
    {
     "name": "stderr",
     "output_type": "stream",
     "text": [
      "100%|██████████| 48/48 [02:05<00:00,  2.62s/it]\n"
     ]
    }
   ],
   "source": [
    "from icl_mi import mutual_Token\n",
    "print('Initializing the model')\n",
    "mt = mutual_Token.mutualToken()\n",
    "qkov, ov_dict_list = mt.get_QKOV()\n",
    "print('Calculating the information')\n",
    "info = mt.calc_information()"
   ]
  },
  {
   "cell_type": "code",
   "execution_count": 4,
   "metadata": {},
   "outputs": [],
   "source": [
    "l45 = info[45]"
   ]
  },
  {
   "cell_type": "code",
   "execution_count": 5,
   "metadata": {},
   "outputs": [
    {
     "data": {
      "text/plain": [
       "dict_keys(['h_1_w1_female', 'h_1_w2_ĉ', 'h_1_w3_middle', 'h_1_w4_ĉ', 'h_1_w5_28', 'h_1_w6_Ġ->', 'h_1_w7_Ġsurvival', 'h_1_w8_Ċ', 'h_1_w9_male', 'h_1_w10_ĉ', 'h_1_w11_upper', 'h_1_w12_ĉ', 'h_1_w13_51', 'h_1_w14_Ġ->', 'h_1_w15_Ġdeath', 'h_1_w16_Ċ', 'h_1_w17_male', 'h_1_w18_ĉ', 'h_1_w19_lower', 'h_1_w20_ĉ', 'h_1_w21_21', 'h_1_w22_Ġ->', 'h_2_w1_female', 'h_2_w2_ĉ', 'h_2_w3_middle', 'h_2_w4_ĉ', 'h_2_w5_28', 'h_2_w6_Ġ->', 'h_2_w7_Ġsurvival', 'h_2_w8_Ċ', 'h_2_w9_male', 'h_2_w10_ĉ', 'h_2_w11_upper', 'h_2_w12_ĉ', 'h_2_w13_51', 'h_2_w14_Ġ->', 'h_2_w15_Ġdeath', 'h_2_w16_Ċ', 'h_2_w17_male', 'h_2_w18_ĉ', 'h_2_w19_lower', 'h_2_w20_ĉ', 'h_2_w21_21', 'h_2_w22_Ġ->', 'h_3_w1_female', 'h_3_w2_ĉ', 'h_3_w3_middle', 'h_3_w4_ĉ', 'h_3_w5_28', 'h_3_w6_Ġ->', 'h_3_w7_Ġsurvival', 'h_3_w8_Ċ', 'h_3_w9_male', 'h_3_w10_ĉ', 'h_3_w11_upper', 'h_3_w12_ĉ', 'h_3_w13_51', 'h_3_w14_Ġ->', 'h_3_w15_Ġdeath', 'h_3_w16_Ċ', 'h_3_w17_male', 'h_3_w18_ĉ', 'h_3_w19_lower', 'h_3_w20_ĉ', 'h_3_w21_21', 'h_3_w22_Ġ->', 'h_4_w1_female', 'h_4_w2_ĉ', 'h_4_w3_middle', 'h_4_w4_ĉ', 'h_4_w5_28', 'h_4_w6_Ġ->', 'h_4_w7_Ġsurvival', 'h_4_w8_Ċ', 'h_4_w9_male', 'h_4_w10_ĉ', 'h_4_w11_upper', 'h_4_w12_ĉ', 'h_4_w13_51', 'h_4_w14_Ġ->', 'h_4_w15_Ġdeath', 'h_4_w16_Ċ', 'h_4_w17_male', 'h_4_w18_ĉ', 'h_4_w19_lower', 'h_4_w20_ĉ', 'h_4_w21_21', 'h_4_w22_Ġ->', 'h_5_w1_female', 'h_5_w2_ĉ', 'h_5_w3_middle', 'h_5_w4_ĉ', 'h_5_w5_28', 'h_5_w6_Ġ->', 'h_5_w7_Ġsurvival', 'h_5_w8_Ċ', 'h_5_w9_male', 'h_5_w10_ĉ', 'h_5_w11_upper', 'h_5_w12_ĉ', 'h_5_w13_51', 'h_5_w14_Ġ->', 'h_5_w15_Ġdeath', 'h_5_w16_Ċ', 'h_5_w17_male', 'h_5_w18_ĉ', 'h_5_w19_lower', 'h_5_w20_ĉ', 'h_5_w21_21', 'h_5_w22_Ġ->', 'h_6_w1_female', 'h_6_w2_ĉ', 'h_6_w3_middle', 'h_6_w4_ĉ', 'h_6_w5_28', 'h_6_w6_Ġ->', 'h_6_w7_Ġsurvival', 'h_6_w8_Ċ', 'h_6_w9_male', 'h_6_w10_ĉ', 'h_6_w11_upper', 'h_6_w12_ĉ', 'h_6_w13_51', 'h_6_w14_Ġ->', 'h_6_w15_Ġdeath', 'h_6_w16_Ċ', 'h_6_w17_male', 'h_6_w18_ĉ', 'h_6_w19_lower', 'h_6_w20_ĉ', 'h_6_w21_21', 'h_6_w22_Ġ->', 'h_7_w1_female', 'h_7_w2_ĉ', 'h_7_w3_middle', 'h_7_w4_ĉ', 'h_7_w5_28', 'h_7_w6_Ġ->', 'h_7_w7_Ġsurvival', 'h_7_w8_Ċ', 'h_7_w9_male', 'h_7_w10_ĉ', 'h_7_w11_upper', 'h_7_w12_ĉ', 'h_7_w13_51', 'h_7_w14_Ġ->', 'h_7_w15_Ġdeath', 'h_7_w16_Ċ', 'h_7_w17_male', 'h_7_w18_ĉ', 'h_7_w19_lower', 'h_7_w20_ĉ', 'h_7_w21_21', 'h_7_w22_Ġ->', 'h_8_w1_female', 'h_8_w2_ĉ', 'h_8_w3_middle', 'h_8_w4_ĉ', 'h_8_w5_28', 'h_8_w6_Ġ->', 'h_8_w7_Ġsurvival', 'h_8_w8_Ċ', 'h_8_w9_male', 'h_8_w10_ĉ', 'h_8_w11_upper', 'h_8_w12_ĉ', 'h_8_w13_51', 'h_8_w14_Ġ->', 'h_8_w15_Ġdeath', 'h_8_w16_Ċ', 'h_8_w17_male', 'h_8_w18_ĉ', 'h_8_w19_lower', 'h_8_w20_ĉ', 'h_8_w21_21', 'h_8_w22_Ġ->', 'h_9_w1_female', 'h_9_w2_ĉ', 'h_9_w3_middle', 'h_9_w4_ĉ', 'h_9_w5_28', 'h_9_w6_Ġ->', 'h_9_w7_Ġsurvival', 'h_9_w8_Ċ', 'h_9_w9_male', 'h_9_w10_ĉ', 'h_9_w11_upper', 'h_9_w12_ĉ', 'h_9_w13_51', 'h_9_w14_Ġ->', 'h_9_w15_Ġdeath', 'h_9_w16_Ċ', 'h_9_w17_male', 'h_9_w18_ĉ', 'h_9_w19_lower', 'h_9_w20_ĉ', 'h_9_w21_21', 'h_9_w22_Ġ->', 'h_10_w1_female', 'h_10_w2_ĉ', 'h_10_w3_middle', 'h_10_w4_ĉ', 'h_10_w5_28', 'h_10_w6_Ġ->', 'h_10_w7_Ġsurvival', 'h_10_w8_Ċ', 'h_10_w9_male', 'h_10_w10_ĉ', 'h_10_w11_upper', 'h_10_w12_ĉ', 'h_10_w13_51', 'h_10_w14_Ġ->', 'h_10_w15_Ġdeath', 'h_10_w16_Ċ', 'h_10_w17_male', 'h_10_w18_ĉ', 'h_10_w19_lower', 'h_10_w20_ĉ', 'h_10_w21_21', 'h_10_w22_Ġ->', 'h_11_w1_female', 'h_11_w2_ĉ', 'h_11_w3_middle', 'h_11_w4_ĉ', 'h_11_w5_28', 'h_11_w6_Ġ->', 'h_11_w7_Ġsurvival', 'h_11_w8_Ċ', 'h_11_w9_male', 'h_11_w10_ĉ', 'h_11_w11_upper', 'h_11_w12_ĉ', 'h_11_w13_51', 'h_11_w14_Ġ->', 'h_11_w15_Ġdeath', 'h_11_w16_Ċ', 'h_11_w17_male', 'h_11_w18_ĉ', 'h_11_w19_lower', 'h_11_w20_ĉ', 'h_11_w21_21', 'h_11_w22_Ġ->', 'h_12_w1_female', 'h_12_w2_ĉ', 'h_12_w3_middle', 'h_12_w4_ĉ', 'h_12_w5_28', 'h_12_w6_Ġ->', 'h_12_w7_Ġsurvival', 'h_12_w8_Ċ', 'h_12_w9_male', 'h_12_w10_ĉ', 'h_12_w11_upper', 'h_12_w12_ĉ', 'h_12_w13_51', 'h_12_w14_Ġ->', 'h_12_w15_Ġdeath', 'h_12_w16_Ċ', 'h_12_w17_male', 'h_12_w18_ĉ', 'h_12_w19_lower', 'h_12_w20_ĉ', 'h_12_w21_21', 'h_12_w22_Ġ->', 'h_13_w1_female', 'h_13_w2_ĉ', 'h_13_w3_middle', 'h_13_w4_ĉ', 'h_13_w5_28', 'h_13_w6_Ġ->', 'h_13_w7_Ġsurvival', 'h_13_w8_Ċ', 'h_13_w9_male', 'h_13_w10_ĉ', 'h_13_w11_upper', 'h_13_w12_ĉ', 'h_13_w13_51', 'h_13_w14_Ġ->', 'h_13_w15_Ġdeath', 'h_13_w16_Ċ', 'h_13_w17_male', 'h_13_w18_ĉ', 'h_13_w19_lower', 'h_13_w20_ĉ', 'h_13_w21_21', 'h_13_w22_Ġ->', 'h_14_w1_female', 'h_14_w2_ĉ', 'h_14_w3_middle', 'h_14_w4_ĉ', 'h_14_w5_28', 'h_14_w6_Ġ->', 'h_14_w7_Ġsurvival', 'h_14_w8_Ċ', 'h_14_w9_male', 'h_14_w10_ĉ', 'h_14_w11_upper', 'h_14_w12_ĉ', 'h_14_w13_51', 'h_14_w14_Ġ->', 'h_14_w15_Ġdeath', 'h_14_w16_Ċ', 'h_14_w17_male', 'h_14_w18_ĉ', 'h_14_w19_lower', 'h_14_w20_ĉ', 'h_14_w21_21', 'h_14_w22_Ġ->', 'h_15_w1_female', 'h_15_w2_ĉ', 'h_15_w3_middle', 'h_15_w4_ĉ', 'h_15_w5_28', 'h_15_w6_Ġ->', 'h_15_w7_Ġsurvival', 'h_15_w8_Ċ', 'h_15_w9_male', 'h_15_w10_ĉ', 'h_15_w11_upper', 'h_15_w12_ĉ', 'h_15_w13_51', 'h_15_w14_Ġ->', 'h_15_w15_Ġdeath', 'h_15_w16_Ċ', 'h_15_w17_male', 'h_15_w18_ĉ', 'h_15_w19_lower', 'h_15_w20_ĉ', 'h_15_w21_21', 'h_15_w22_Ġ->', 'h_16_w1_female', 'h_16_w2_ĉ', 'h_16_w3_middle', 'h_16_w4_ĉ', 'h_16_w5_28', 'h_16_w6_Ġ->', 'h_16_w7_Ġsurvival', 'h_16_w8_Ċ', 'h_16_w9_male', 'h_16_w10_ĉ', 'h_16_w11_upper', 'h_16_w12_ĉ', 'h_16_w13_51', 'h_16_w14_Ġ->', 'h_16_w15_Ġdeath', 'h_16_w16_Ċ', 'h_16_w17_male', 'h_16_w18_ĉ', 'h_16_w19_lower', 'h_16_w20_ĉ', 'h_16_w21_21', 'h_16_w22_Ġ->', 'h_17_w1_female', 'h_17_w2_ĉ', 'h_17_w3_middle', 'h_17_w4_ĉ', 'h_17_w5_28', 'h_17_w6_Ġ->', 'h_17_w7_Ġsurvival', 'h_17_w8_Ċ', 'h_17_w9_male', 'h_17_w10_ĉ', 'h_17_w11_upper', 'h_17_w12_ĉ', 'h_17_w13_51', 'h_17_w14_Ġ->', 'h_17_w15_Ġdeath', 'h_17_w16_Ċ', 'h_17_w17_male', 'h_17_w18_ĉ', 'h_17_w19_lower', 'h_17_w20_ĉ', 'h_17_w21_21', 'h_17_w22_Ġ->', 'h_18_w1_female', 'h_18_w2_ĉ', 'h_18_w3_middle', 'h_18_w4_ĉ', 'h_18_w5_28', 'h_18_w6_Ġ->', 'h_18_w7_Ġsurvival', 'h_18_w8_Ċ', 'h_18_w9_male', 'h_18_w10_ĉ', 'h_18_w11_upper', 'h_18_w12_ĉ', 'h_18_w13_51', 'h_18_w14_Ġ->', 'h_18_w15_Ġdeath', 'h_18_w16_Ċ', 'h_18_w17_male', 'h_18_w18_ĉ', 'h_18_w19_lower', 'h_18_w20_ĉ', 'h_18_w21_21', 'h_18_w22_Ġ->', 'h_19_w1_female', 'h_19_w2_ĉ', 'h_19_w3_middle', 'h_19_w4_ĉ', 'h_19_w5_28', 'h_19_w6_Ġ->', 'h_19_w7_Ġsurvival', 'h_19_w8_Ċ', 'h_19_w9_male', 'h_19_w10_ĉ', 'h_19_w11_upper', 'h_19_w12_ĉ', 'h_19_w13_51', 'h_19_w14_Ġ->', 'h_19_w15_Ġdeath', 'h_19_w16_Ċ', 'h_19_w17_male', 'h_19_w18_ĉ', 'h_19_w19_lower', 'h_19_w20_ĉ', 'h_19_w21_21', 'h_19_w22_Ġ->', 'h_20_w1_female', 'h_20_w2_ĉ', 'h_20_w3_middle', 'h_20_w4_ĉ', 'h_20_w5_28', 'h_20_w6_Ġ->', 'h_20_w7_Ġsurvival', 'h_20_w8_Ċ', 'h_20_w9_male', 'h_20_w10_ĉ', 'h_20_w11_upper', 'h_20_w12_ĉ', 'h_20_w13_51', 'h_20_w14_Ġ->', 'h_20_w15_Ġdeath', 'h_20_w16_Ċ', 'h_20_w17_male', 'h_20_w18_ĉ', 'h_20_w19_lower', 'h_20_w20_ĉ', 'h_20_w21_21', 'h_20_w22_Ġ->', 'h_21_w1_female', 'h_21_w2_ĉ', 'h_21_w3_middle', 'h_21_w4_ĉ', 'h_21_w5_28', 'h_21_w6_Ġ->', 'h_21_w7_Ġsurvival', 'h_21_w8_Ċ', 'h_21_w9_male', 'h_21_w10_ĉ', 'h_21_w11_upper', 'h_21_w12_ĉ', 'h_21_w13_51', 'h_21_w14_Ġ->', 'h_21_w15_Ġdeath', 'h_21_w16_Ċ', 'h_21_w17_male', 'h_21_w18_ĉ', 'h_21_w19_lower', 'h_21_w20_ĉ', 'h_21_w21_21', 'h_21_w22_Ġ->', 'h_22_w1_female', 'h_22_w2_ĉ', 'h_22_w3_middle', 'h_22_w4_ĉ', 'h_22_w5_28', 'h_22_w6_Ġ->', 'h_22_w7_Ġsurvival', 'h_22_w8_Ċ', 'h_22_w9_male', 'h_22_w10_ĉ', 'h_22_w11_upper', 'h_22_w12_ĉ', 'h_22_w13_51', 'h_22_w14_Ġ->', 'h_22_w15_Ġdeath', 'h_22_w16_Ċ', 'h_22_w17_male', 'h_22_w18_ĉ', 'h_22_w19_lower', 'h_22_w20_ĉ', 'h_22_w21_21', 'h_22_w22_Ġ->', 'h_23_w1_female', 'h_23_w2_ĉ', 'h_23_w3_middle', 'h_23_w4_ĉ', 'h_23_w5_28', 'h_23_w6_Ġ->', 'h_23_w7_Ġsurvival', 'h_23_w8_Ċ', 'h_23_w9_male', 'h_23_w10_ĉ', 'h_23_w11_upper', 'h_23_w12_ĉ', 'h_23_w13_51', 'h_23_w14_Ġ->', 'h_23_w15_Ġdeath', 'h_23_w16_Ċ', 'h_23_w17_male', 'h_23_w18_ĉ', 'h_23_w19_lower', 'h_23_w20_ĉ', 'h_23_w21_21', 'h_23_w22_Ġ->', 'h_24_w1_female', 'h_24_w2_ĉ', 'h_24_w3_middle', 'h_24_w4_ĉ', 'h_24_w5_28', 'h_24_w6_Ġ->', 'h_24_w7_Ġsurvival', 'h_24_w8_Ċ', 'h_24_w9_male', 'h_24_w10_ĉ', 'h_24_w11_upper', 'h_24_w12_ĉ', 'h_24_w13_51', 'h_24_w14_Ġ->', 'h_24_w15_Ġdeath', 'h_24_w16_Ċ', 'h_24_w17_male', 'h_24_w18_ĉ', 'h_24_w19_lower', 'h_24_w20_ĉ', 'h_24_w21_21', 'h_24_w22_Ġ->', 'h_25_w1_female', 'h_25_w2_ĉ', 'h_25_w3_middle', 'h_25_w4_ĉ', 'h_25_w5_28', 'h_25_w6_Ġ->', 'h_25_w7_Ġsurvival', 'h_25_w8_Ċ', 'h_25_w9_male', 'h_25_w10_ĉ', 'h_25_w11_upper', 'h_25_w12_ĉ', 'h_25_w13_51', 'h_25_w14_Ġ->', 'h_25_w15_Ġdeath', 'h_25_w16_Ċ', 'h_25_w17_male', 'h_25_w18_ĉ', 'h_25_w19_lower', 'h_25_w20_ĉ', 'h_25_w21_21', 'h_25_w22_Ġ->'])"
      ]
     },
     "execution_count": 5,
     "metadata": {},
     "output_type": "execute_result"
    }
   ],
   "source": [
    "l45.keys()"
   ]
  },
  {
   "cell_type": "code",
   "execution_count": 8,
   "metadata": {},
   "outputs": [],
   "source": [
    "decoded_tokens = mt.get_token_dict()"
   ]
  },
  {
   "cell_type": "code",
   "execution_count": 9,
   "metadata": {},
   "outputs": [
    {
     "data": {
      "text/plain": [
       "['female',\n",
       " 'ĉ',\n",
       " 'middle',\n",
       " 'ĉ',\n",
       " '28',\n",
       " 'Ġ->',\n",
       " 'Ġsurvival',\n",
       " 'Ċ',\n",
       " 'male',\n",
       " 'ĉ',\n",
       " 'upper',\n",
       " 'ĉ',\n",
       " '51',\n",
       " 'Ġ->',\n",
       " 'Ġdeath',\n",
       " 'Ċ',\n",
       " 'male',\n",
       " 'ĉ',\n",
       " 'lower',\n",
       " 'ĉ',\n",
       " '21',\n",
       " 'Ġ->']"
      ]
     },
     "execution_count": 9,
     "metadata": {},
     "output_type": "execute_result"
    }
   ],
   "source": [
    "decoded_tokens"
   ]
  },
  {
   "cell_type": "code",
   "execution_count": 12,
   "metadata": {},
   "outputs": [
    {
     "name": "stdout",
     "output_type": "stream",
     "text": [
      "MI from female is 0.7135116952194509\n",
      "MI from ĉ is 2.7186961039002275\n",
      "MI from middle is 2.7012052370445443\n",
      "MI from ĉ is 2.7961120170624656\n",
      "MI from 28 is 2.7315486512610523\n",
      "MI from Ġ-> is 3.013551813326429\n",
      "MI from Ġsurvival is 2.718696103900228\n",
      "MI from Ċ is 2.480491221121532\n",
      "MI from male is 3.1188467363133032\n",
      "MI from ĉ is 2.6740905887084567\n",
      "MI from upper is 2.943141853534607\n",
      "MI from ĉ is 2.801304798865899\n",
      "MI from 51 is 3.0615395181167364\n",
      "MI from Ġ-> is 2.785374329980682\n",
      "MI from Ġdeath is 2.7193499160872032\n",
      "MI from Ċ is 2.9023109464707453\n",
      "MI from male is 2.935121344441212\n",
      "MI from ĉ is 2.9278651968363656\n",
      "MI from lower is 3.1245424859476825\n",
      "MI from ĉ is 2.8790814555641404\n",
      "MI from 21 is 2.978166461662516\n",
      "MI from Ġ-> is 2.763955431278974\n"
     ]
    }
   ],
   "source": [
    "for i in range(len(decoded_tokens)):\n",
    "    print(f\"MI from {decoded_tokens[i]} is {l45['h_1_w22_Ġ->'][i]}\")"
   ]
  },
  {
   "cell_type": "code",
   "execution_count": 6,
   "metadata": {},
   "outputs": [
    {
     "data": {
      "text/plain": [
       "[0.7135116952194509,\n",
       " 2.7186961039002275,\n",
       " 2.7012052370445443,\n",
       " 2.7961120170624656,\n",
       " 2.7315486512610523,\n",
       " 3.013551813326429,\n",
       " 2.718696103900228,\n",
       " 2.480491221121532,\n",
       " 3.1188467363133032,\n",
       " 2.6740905887084567,\n",
       " 2.943141853534607,\n",
       " 2.801304798865899,\n",
       " 3.0615395181167364,\n",
       " 2.785374329980682,\n",
       " 2.7193499160872032,\n",
       " 2.9023109464707453,\n",
       " 2.935121344441212,\n",
       " 2.9278651968363656,\n",
       " 3.1245424859476825,\n",
       " 2.8790814555641404,\n",
       " 2.978166461662516,\n",
       " 2.763955431278974]"
      ]
     },
     "execution_count": 6,
     "metadata": {},
     "output_type": "execute_result"
    }
   ],
   "source": [
    "l45['h_1_w22_Ġ->']"
   ]
  },
  {
   "cell_type": "code",
   "execution_count": 13,
   "metadata": {},
   "outputs": [],
   "source": [
    "oss = qkov['attn_output_each_head']\n",
    "vss = qkov['V']"
   ]
  },
  {
   "cell_type": "code",
   "execution_count": 94,
   "metadata": {},
   "outputs": [
    {
     "data": {
      "text/plain": [
       "torch.Size([1, 25, 22, 64])"
      ]
     },
     "execution_count": 94,
     "metadata": {},
     "output_type": "execute_result"
    }
   ],
   "source": [
    "vss[0].shape"
   ]
  },
  {
   "cell_type": "code",
   "execution_count": 50,
   "metadata": {},
   "outputs": [
    {
     "data": {
      "text/plain": [
       "torch.Size([1, 25, 22, 64])"
      ]
     },
     "execution_count": 50,
     "metadata": {},
     "output_type": "execute_result"
    }
   ],
   "source": [
    "os[0].shape"
   ]
  },
  {
   "cell_type": "code",
   "execution_count": 55,
   "metadata": {},
   "outputs": [],
   "source": [
    "import numpy as np\n",
    "\n",
    "# Parameters\n",
    "seq_len = 4       # Number of words/tokens in the sequence\n",
    "num_layer = 3     # Number of layers in the model\n",
    "num_head = 5\n",
    "dim = 2 \n",
    "\n",
    "# Initialize the arrays using NumPy\n",
    "vs, os, information = np.empty((3, num_layer, num_head, seq_len), dtype=object)\n",
    "\n",
    "# synthesize data\n",
    "# Define the shape of each NumPy array\n",
    "array_shape = (1, num_head, seq_len, dim)\n",
    "\n",
    "# Create a list of 3 NumPy arrays with the specified shape\n",
    "array_list = [np.random.rand(*array_shape) for _ in range(num_layer)]\n"
   ]
  },
  {
   "cell_type": "code",
   "execution_count": 2,
   "metadata": {},
   "outputs": [
    {
     "data": {
      "text/plain": [
       "(array([[[['o_h1_w1_d1', 'o_h1_w1_d2'],\n",
       "          ['o_h1_w2_d1', 'o_h1_w2_d2'],\n",
       "          ['o_h1_w3_d1', 'o_h1_w3_d2'],\n",
       "          ['o_h1_w4_d1', 'o_h1_w4_d2']],\n",
       " \n",
       "         [['o_h2_w1_d1', 'o_h2_w1_d2'],\n",
       "          ['o_h2_w2_d1', 'o_h2_w2_d2'],\n",
       "          ['o_h2_w3_d1', 'o_h2_w3_d2'],\n",
       "          ['o_h2_w4_d1', 'o_h2_w4_d2']],\n",
       " \n",
       "         [['o_h3_w1_d1', 'o_h3_w1_d2'],\n",
       "          ['o_h3_w2_d1', 'o_h3_w2_d2'],\n",
       "          ['o_h3_w3_d1', 'o_h3_w3_d2'],\n",
       "          ['o_h3_w4_d1', 'o_h3_w4_d2']],\n",
       " \n",
       "         [['o_h4_w1_d1', 'o_h4_w1_d2'],\n",
       "          ['o_h4_w2_d1', 'o_h4_w2_d2'],\n",
       "          ['o_h4_w3_d1', 'o_h4_w3_d2'],\n",
       "          ['o_h4_w4_d1', 'o_h4_w4_d2']],\n",
       " \n",
       "         [['o_h5_w1_d1', 'o_h5_w1_d2'],\n",
       "          ['o_h5_w2_d1', 'o_h5_w2_d2'],\n",
       "          ['o_h5_w3_d1', 'o_h5_w3_d2'],\n",
       "          ['o_h5_w4_d1', 'o_h5_w4_d2']]]], dtype=object),\n",
       " array([[[['v_h1_w1_d1', 'v_h1_w1_d2'],\n",
       "          ['v_h1_w2_d1', 'v_h1_w2_d2'],\n",
       "          ['v_h1_w3_d1', 'v_h1_w3_d2'],\n",
       "          ['v_h1_w4_d1', 'v_h1_w4_d2']],\n",
       " \n",
       "         [['v_h2_w1_d1', 'v_h2_w1_d2'],\n",
       "          ['v_h2_w2_d1', 'v_h2_w2_d2'],\n",
       "          ['v_h2_w3_d1', 'v_h2_w3_d2'],\n",
       "          ['v_h2_w4_d1', 'v_h2_w4_d2']],\n",
       " \n",
       "         [['v_h3_w1_d1', 'v_h3_w1_d2'],\n",
       "          ['v_h3_w2_d1', 'v_h3_w2_d2'],\n",
       "          ['v_h3_w3_d1', 'v_h3_w3_d2'],\n",
       "          ['v_h3_w4_d1', 'v_h3_w4_d2']],\n",
       " \n",
       "         [['v_h4_w1_d1', 'v_h4_w1_d2'],\n",
       "          ['v_h4_w2_d1', 'v_h4_w2_d2'],\n",
       "          ['v_h4_w3_d1', 'v_h4_w3_d2'],\n",
       "          ['v_h4_w4_d1', 'v_h4_w4_d2']],\n",
       " \n",
       "         [['v_h5_w1_d1', 'v_h5_w1_d2'],\n",
       "          ['v_h5_w2_d1', 'v_h5_w2_d2'],\n",
       "          ['v_h5_w3_d1', 'v_h5_w3_d2'],\n",
       "          ['v_h5_w4_d1', 'v_h5_w4_d2']]]], dtype=object))"
      ]
     },
     "execution_count": 2,
     "metadata": {},
     "output_type": "execute_result"
    }
   ],
   "source": [
    "import numpy as np\n",
    "\n",
    "# Initialize an empty list to hold the arrays\n",
    "array_list_o = []\n",
    "array_list_v = []\n",
    "\n",
    "# Parameters\n",
    "seq_len = 4       # Number of words/tokens in the sequence\n",
    "num_layer = 3     # Number of layers in the model\n",
    "num_head = 5\n",
    "dim = 2 \n",
    "\n",
    "# Populate the list with arrays\n",
    "for _ in range(3):\n",
    "    # Create an empty array of shape (1, 5, 4, 2)\n",
    "    array_o = np.empty((1, 5, 4, 2), dtype=object)\n",
    "    array_v = np.empty((1, 5, 4, 2), dtype=object)\n",
    "\n",
    "    \n",
    "    # Fill the array with the formatted strings\n",
    "    for i in range(5):\n",
    "        for j in range(4):\n",
    "            for k in range(2):\n",
    "                array_o[0, i, j, k] = f\"o_h{i+1}_w{j+1}_d{k+1}\"\n",
    "    \n",
    "    # Add the array to the list\n",
    "    array_list_o.append(array_o)\n",
    "\n",
    "    for i in range(5):\n",
    "        for j in range(4):\n",
    "            for k in range(2):\n",
    "                array_v[0, i, j, k] = f\"v_h{i+1}_w{j+1}_d{k+1}\"\n",
    "    \n",
    "    # Add the array to the list\n",
    "    array_list_v.append(array_v)\n",
    "\n",
    "\n",
    "# Now array_list contains 3 arrays with the specified format\n",
    "array_list_o[0], array_list_v[0]"
   ]
  },
  {
   "cell_type": "code",
   "execution_count": 5,
   "metadata": {},
   "outputs": [
    {
     "data": {
      "text/plain": [
       "[(array(['o_h1_w1_d1', 'o_h1_w1_d2'], dtype=object),\n",
       "  [array(['v_h1_w1_d1', 'v_h1_w1_d2'], dtype=object)]),\n",
       " (array(['o_h1_w2_d1', 'o_h1_w2_d2'], dtype=object),\n",
       "  [array(['v_h1_w1_d1', 'v_h1_w1_d2'], dtype=object),\n",
       "   array(['v_h1_w2_d1', 'v_h1_w2_d2'], dtype=object)]),\n",
       " (array(['o_h1_w3_d1', 'o_h1_w3_d2'], dtype=object),\n",
       "  [array(['v_h1_w1_d1', 'v_h1_w1_d2'], dtype=object),\n",
       "   array(['v_h1_w2_d1', 'v_h1_w2_d2'], dtype=object),\n",
       "   array(['v_h1_w3_d1', 'v_h1_w3_d2'], dtype=object)]),\n",
       " (array(['o_h1_w4_d1', 'o_h1_w4_d2'], dtype=object),\n",
       "  [array(['v_h1_w1_d1', 'v_h1_w1_d2'], dtype=object),\n",
       "   array(['v_h1_w2_d1', 'v_h1_w2_d2'], dtype=object),\n",
       "   array(['v_h1_w3_d1', 'v_h1_w3_d2'], dtype=object),\n",
       "   array(['v_h1_w4_d1', 'v_h1_w4_d2'], dtype=object)]),\n",
       " (array(['o_h2_w1_d1', 'o_h2_w1_d2'], dtype=object),\n",
       "  [array(['v_h2_w1_d1', 'v_h2_w1_d2'], dtype=object)]),\n",
       " (array(['o_h2_w2_d1', 'o_h2_w2_d2'], dtype=object),\n",
       "  [array(['v_h2_w1_d1', 'v_h2_w1_d2'], dtype=object),\n",
       "   array(['v_h2_w2_d1', 'v_h2_w2_d2'], dtype=object)]),\n",
       " (array(['o_h2_w3_d1', 'o_h2_w3_d2'], dtype=object),\n",
       "  [array(['v_h2_w1_d1', 'v_h2_w1_d2'], dtype=object),\n",
       "   array(['v_h2_w2_d1', 'v_h2_w2_d2'], dtype=object),\n",
       "   array(['v_h2_w3_d1', 'v_h2_w3_d2'], dtype=object)]),\n",
       " (array(['o_h2_w4_d1', 'o_h2_w4_d2'], dtype=object),\n",
       "  [array(['v_h2_w1_d1', 'v_h2_w1_d2'], dtype=object),\n",
       "   array(['v_h2_w2_d1', 'v_h2_w2_d2'], dtype=object),\n",
       "   array(['v_h2_w3_d1', 'v_h2_w3_d2'], dtype=object),\n",
       "   array(['v_h2_w4_d1', 'v_h2_w4_d2'], dtype=object)]),\n",
       " (array(['o_h3_w1_d1', 'o_h3_w1_d2'], dtype=object),\n",
       "  [array(['v_h3_w1_d1', 'v_h3_w1_d2'], dtype=object)]),\n",
       " (array(['o_h3_w2_d1', 'o_h3_w2_d2'], dtype=object),\n",
       "  [array(['v_h3_w1_d1', 'v_h3_w1_d2'], dtype=object),\n",
       "   array(['v_h3_w2_d1', 'v_h3_w2_d2'], dtype=object)]),\n",
       " (array(['o_h3_w3_d1', 'o_h3_w3_d2'], dtype=object),\n",
       "  [array(['v_h3_w1_d1', 'v_h3_w1_d2'], dtype=object),\n",
       "   array(['v_h3_w2_d1', 'v_h3_w2_d2'], dtype=object),\n",
       "   array(['v_h3_w3_d1', 'v_h3_w3_d2'], dtype=object)]),\n",
       " (array(['o_h3_w4_d1', 'o_h3_w4_d2'], dtype=object),\n",
       "  [array(['v_h3_w1_d1', 'v_h3_w1_d2'], dtype=object),\n",
       "   array(['v_h3_w2_d1', 'v_h3_w2_d2'], dtype=object),\n",
       "   array(['v_h3_w3_d1', 'v_h3_w3_d2'], dtype=object),\n",
       "   array(['v_h3_w4_d1', 'v_h3_w4_d2'], dtype=object)]),\n",
       " (array(['o_h4_w1_d1', 'o_h4_w1_d2'], dtype=object),\n",
       "  [array(['v_h4_w1_d1', 'v_h4_w1_d2'], dtype=object)]),\n",
       " (array(['o_h4_w2_d1', 'o_h4_w2_d2'], dtype=object),\n",
       "  [array(['v_h4_w1_d1', 'v_h4_w1_d2'], dtype=object),\n",
       "   array(['v_h4_w2_d1', 'v_h4_w2_d2'], dtype=object)]),\n",
       " (array(['o_h4_w3_d1', 'o_h4_w3_d2'], dtype=object),\n",
       "  [array(['v_h4_w1_d1', 'v_h4_w1_d2'], dtype=object),\n",
       "   array(['v_h4_w2_d1', 'v_h4_w2_d2'], dtype=object),\n",
       "   array(['v_h4_w3_d1', 'v_h4_w3_d2'], dtype=object)]),\n",
       " (array(['o_h4_w4_d1', 'o_h4_w4_d2'], dtype=object),\n",
       "  [array(['v_h4_w1_d1', 'v_h4_w1_d2'], dtype=object),\n",
       "   array(['v_h4_w2_d1', 'v_h4_w2_d2'], dtype=object),\n",
       "   array(['v_h4_w3_d1', 'v_h4_w3_d2'], dtype=object),\n",
       "   array(['v_h4_w4_d1', 'v_h4_w4_d2'], dtype=object)]),\n",
       " (array(['o_h5_w1_d1', 'o_h5_w1_d2'], dtype=object),\n",
       "  [array(['v_h5_w1_d1', 'v_h5_w1_d2'], dtype=object)]),\n",
       " (array(['o_h5_w2_d1', 'o_h5_w2_d2'], dtype=object),\n",
       "  [array(['v_h5_w1_d1', 'v_h5_w1_d2'], dtype=object),\n",
       "   array(['v_h5_w2_d1', 'v_h5_w2_d2'], dtype=object)]),\n",
       " (array(['o_h5_w3_d1', 'o_h5_w3_d2'], dtype=object),\n",
       "  [array(['v_h5_w1_d1', 'v_h5_w1_d2'], dtype=object),\n",
       "   array(['v_h5_w2_d1', 'v_h5_w2_d2'], dtype=object),\n",
       "   array(['v_h5_w3_d1', 'v_h5_w3_d2'], dtype=object)]),\n",
       " (array(['o_h5_w4_d1', 'o_h5_w4_d2'], dtype=object),\n",
       "  [array(['v_h5_w1_d1', 'v_h5_w1_d2'], dtype=object),\n",
       "   array(['v_h5_w2_d1', 'v_h5_w2_d2'], dtype=object),\n",
       "   array(['v_h5_w3_d1', 'v_h5_w3_d2'], dtype=object),\n",
       "   array(['v_h5_w4_d1', 'v_h5_w4_d2'], dtype=object)])]"
      ]
     },
     "execution_count": 5,
     "metadata": {},
     "output_type": "execute_result"
    }
   ],
   "source": [
    "import numpy as np\n",
    "\n",
    "def extract_vectors(o_array, v_array):\n",
    "    \"\"\"\n",
    "    Iterates through all heads (i) and all words (j), \n",
    "    extracting the o vector for each word j in head i \n",
    "    and all v vectors from word 1 to j in head i.\n",
    "\n",
    "    Parameters:\n",
    "    o_array (numpy array): Array of o vectors of shape (1, num_heads, num_words, num_dims)\n",
    "    v_array (numpy array): Array of v vectors of shape (1, num_heads, num_words, num_dims)\n",
    "\n",
    "    Returns:\n",
    "    results (list): A list of tuples containing o_vector and v_vectors for each (i, j) combination\n",
    "    \"\"\"\n",
    "    results = []\n",
    "    \n",
    "    # Extract the shape info from arrays (since first dimension is 1, we use index 0)\n",
    "    num_heads = o_array.shape[1]\n",
    "    num_words = o_array.shape[2]\n",
    "    \n",
    "    # Iterate over each head and word\n",
    "    for i in range(num_heads):\n",
    "        for j in range(1, num_words+1):  # 1-indexed for word loop\n",
    "            # Extract o vector for word j in head i\n",
    "            o_vector = o_array[0][i][j-1]  # Subtract 1 because of 1-based indexing\n",
    "            \n",
    "            # Extract v vectors for all words from word 1 to word j in head i\n",
    "            v_vectors = [v_array[0][i][w] for w in range(j)]  # Collect vectors from word 1 to j\n",
    "            \n",
    "            # Append the result as a tuple of (o_vector, v_vectors)\n",
    "            results.append((o_vector, v_vectors))\n",
    "    \n",
    "    return results\n",
    "\n",
    "extract_vectors(array_list_o[0], array_list_v[0])\n"
   ]
  },
  {
   "cell_type": "code",
   "execution_count": 12,
   "metadata": {},
   "outputs": [
    {
     "data": {
      "text/plain": [
       "{'head_1_word_1': (array(['o_h1_w1_d1', 'o_h1_w1_d2'], dtype=object),\n",
       "  [array(['v_h1_w1_d1', 'v_h1_w1_d2'], dtype=object)]),\n",
       " 'head_1_word_2': (array(['o_h1_w2_d1', 'o_h1_w2_d2'], dtype=object),\n",
       "  [array(['v_h1_w1_d1', 'v_h1_w1_d2'], dtype=object),\n",
       "   array(['v_h1_w2_d1', 'v_h1_w2_d2'], dtype=object)]),\n",
       " 'head_1_word_3': (array(['o_h1_w3_d1', 'o_h1_w3_d2'], dtype=object),\n",
       "  [array(['v_h1_w1_d1', 'v_h1_w1_d2'], dtype=object),\n",
       "   array(['v_h1_w2_d1', 'v_h1_w2_d2'], dtype=object),\n",
       "   array(['v_h1_w3_d1', 'v_h1_w3_d2'], dtype=object)]),\n",
       " 'head_1_word_4': (array(['o_h1_w4_d1', 'o_h1_w4_d2'], dtype=object),\n",
       "  [array(['v_h1_w1_d1', 'v_h1_w1_d2'], dtype=object),\n",
       "   array(['v_h1_w2_d1', 'v_h1_w2_d2'], dtype=object),\n",
       "   array(['v_h1_w3_d1', 'v_h1_w3_d2'], dtype=object),\n",
       "   array(['v_h1_w4_d1', 'v_h1_w4_d2'], dtype=object)]),\n",
       " 'head_2_word_1': (array(['o_h2_w1_d1', 'o_h2_w1_d2'], dtype=object),\n",
       "  [array(['v_h2_w1_d1', 'v_h2_w1_d2'], dtype=object)]),\n",
       " 'head_2_word_2': (array(['o_h2_w2_d1', 'o_h2_w2_d2'], dtype=object),\n",
       "  [array(['v_h2_w1_d1', 'v_h2_w1_d2'], dtype=object),\n",
       "   array(['v_h2_w2_d1', 'v_h2_w2_d2'], dtype=object)]),\n",
       " 'head_2_word_3': (array(['o_h2_w3_d1', 'o_h2_w3_d2'], dtype=object),\n",
       "  [array(['v_h2_w1_d1', 'v_h2_w1_d2'], dtype=object),\n",
       "   array(['v_h2_w2_d1', 'v_h2_w2_d2'], dtype=object),\n",
       "   array(['v_h2_w3_d1', 'v_h2_w3_d2'], dtype=object)]),\n",
       " 'head_2_word_4': (array(['o_h2_w4_d1', 'o_h2_w4_d2'], dtype=object),\n",
       "  [array(['v_h2_w1_d1', 'v_h2_w1_d2'], dtype=object),\n",
       "   array(['v_h2_w2_d1', 'v_h2_w2_d2'], dtype=object),\n",
       "   array(['v_h2_w3_d1', 'v_h2_w3_d2'], dtype=object),\n",
       "   array(['v_h2_w4_d1', 'v_h2_w4_d2'], dtype=object)]),\n",
       " 'head_3_word_1': (array(['o_h3_w1_d1', 'o_h3_w1_d2'], dtype=object),\n",
       "  [array(['v_h3_w1_d1', 'v_h3_w1_d2'], dtype=object)]),\n",
       " 'head_3_word_2': (array(['o_h3_w2_d1', 'o_h3_w2_d2'], dtype=object),\n",
       "  [array(['v_h3_w1_d1', 'v_h3_w1_d2'], dtype=object),\n",
       "   array(['v_h3_w2_d1', 'v_h3_w2_d2'], dtype=object)]),\n",
       " 'head_3_word_3': (array(['o_h3_w3_d1', 'o_h3_w3_d2'], dtype=object),\n",
       "  [array(['v_h3_w1_d1', 'v_h3_w1_d2'], dtype=object),\n",
       "   array(['v_h3_w2_d1', 'v_h3_w2_d2'], dtype=object),\n",
       "   array(['v_h3_w3_d1', 'v_h3_w3_d2'], dtype=object)]),\n",
       " 'head_3_word_4': (array(['o_h3_w4_d1', 'o_h3_w4_d2'], dtype=object),\n",
       "  [array(['v_h3_w1_d1', 'v_h3_w1_d2'], dtype=object),\n",
       "   array(['v_h3_w2_d1', 'v_h3_w2_d2'], dtype=object),\n",
       "   array(['v_h3_w3_d1', 'v_h3_w3_d2'], dtype=object),\n",
       "   array(['v_h3_w4_d1', 'v_h3_w4_d2'], dtype=object)]),\n",
       " 'head_4_word_1': (array(['o_h4_w1_d1', 'o_h4_w1_d2'], dtype=object),\n",
       "  [array(['v_h4_w1_d1', 'v_h4_w1_d2'], dtype=object)]),\n",
       " 'head_4_word_2': (array(['o_h4_w2_d1', 'o_h4_w2_d2'], dtype=object),\n",
       "  [array(['v_h4_w1_d1', 'v_h4_w1_d2'], dtype=object),\n",
       "   array(['v_h4_w2_d1', 'v_h4_w2_d2'], dtype=object)]),\n",
       " 'head_4_word_3': (array(['o_h4_w3_d1', 'o_h4_w3_d2'], dtype=object),\n",
       "  [array(['v_h4_w1_d1', 'v_h4_w1_d2'], dtype=object),\n",
       "   array(['v_h4_w2_d1', 'v_h4_w2_d2'], dtype=object),\n",
       "   array(['v_h4_w3_d1', 'v_h4_w3_d2'], dtype=object)]),\n",
       " 'head_4_word_4': (array(['o_h4_w4_d1', 'o_h4_w4_d2'], dtype=object),\n",
       "  [array(['v_h4_w1_d1', 'v_h4_w1_d2'], dtype=object),\n",
       "   array(['v_h4_w2_d1', 'v_h4_w2_d2'], dtype=object),\n",
       "   array(['v_h4_w3_d1', 'v_h4_w3_d2'], dtype=object),\n",
       "   array(['v_h4_w4_d1', 'v_h4_w4_d2'], dtype=object)]),\n",
       " 'head_5_word_1': (array(['o_h5_w1_d1', 'o_h5_w1_d2'], dtype=object),\n",
       "  [array(['v_h5_w1_d1', 'v_h5_w1_d2'], dtype=object)]),\n",
       " 'head_5_word_2': (array(['o_h5_w2_d1', 'o_h5_w2_d2'], dtype=object),\n",
       "  [array(['v_h5_w1_d1', 'v_h5_w1_d2'], dtype=object),\n",
       "   array(['v_h5_w2_d1', 'v_h5_w2_d2'], dtype=object)]),\n",
       " 'head_5_word_3': (array(['o_h5_w3_d1', 'o_h5_w3_d2'], dtype=object),\n",
       "  [array(['v_h5_w1_d1', 'v_h5_w1_d2'], dtype=object),\n",
       "   array(['v_h5_w2_d1', 'v_h5_w2_d2'], dtype=object),\n",
       "   array(['v_h5_w3_d1', 'v_h5_w3_d2'], dtype=object)]),\n",
       " 'head_5_word_4': (array(['o_h5_w4_d1', 'o_h5_w4_d2'], dtype=object),\n",
       "  [array(['v_h5_w1_d1', 'v_h5_w1_d2'], dtype=object),\n",
       "   array(['v_h5_w2_d1', 'v_h5_w2_d2'], dtype=object),\n",
       "   array(['v_h5_w3_d1', 'v_h5_w3_d2'], dtype=object),\n",
       "   array(['v_h5_w4_d1', 'v_h5_w4_d2'], dtype=object)])}"
      ]
     },
     "execution_count": 12,
     "metadata": {},
     "output_type": "execute_result"
    }
   ],
   "source": [
    "\n",
    "def extract_vectors(o_array, v_array):\n",
    "    \"\"\"\n",
    "    Iterates through all heads (i) and all words (j), \n",
    "    extracting the o vector for each word j in head i \n",
    "    and all v vectors from word 1 to j in head i.\n",
    "\n",
    "    Parameters:\n",
    "    o_array (numpy array): Array of o vectors of shape (1, num_heads, num_words, num_dims)\n",
    "    v_array (numpy array): Array of v vectors of shape (1, num_heads, num_words, num_dims)\n",
    "\n",
    "    Returns:\n",
    "    results (dict): A dictionary with keys indicating the head and word, \n",
    "                    and values being a tuple of (o_vector, v_vectors)\n",
    "    \"\"\"\n",
    "    results = {}\n",
    "    \n",
    "    # Extract the shape info from arrays (since first dimension is 1, we use index 0)\n",
    "    num_heads = o_array.shape[1]\n",
    "    num_words = o_array.shape[2]\n",
    "    \n",
    "    # Iterate over each head and word\n",
    "    for i in range(num_heads):\n",
    "        for j in range(1, num_words + 1):  # 1-indexed for word loop\n",
    "            # Extract o vector for word j in head i\n",
    "            o_vector = o_array[0][i][j - 1]  # Subtract 1 because of 1-based indexing\n",
    "            \n",
    "            # Extract v vectors for all words from word 1 to word j in head i\n",
    "            v_vectors = [v_array[0][i][w] for w in range(j)]  # Collect vectors from word 1 to j\n",
    "            \n",
    "            # Create a key to indicate the head and word\n",
    "            key = f\"head_{i + 1}_word_{j}\"\n",
    "            \n",
    "            # Store the o_vector and v_vectors as a tuple in the dictionary\n",
    "            results[key] = (o_vector, v_vectors)\n",
    "    \n",
    "    return results\n",
    "\n",
    "extract_vectors(array_list_o[0], array_list_v[0])"
   ]
  },
  {
   "cell_type": "code",
   "execution_count": 15,
   "metadata": {},
   "outputs": [],
   "source": [
    "adict = extract_vectors(oss[0], vss[0])"
   ]
  },
  {
   "cell_type": "code",
   "execution_count": 16,
   "metadata": {},
   "outputs": [
    {
     "data": {
      "text/plain": [
       "dict_keys(['head_1_word_1', 'head_1_word_2', 'head_1_word_3', 'head_1_word_4', 'head_1_word_5', 'head_1_word_6', 'head_1_word_7', 'head_1_word_8', 'head_1_word_9', 'head_1_word_10', 'head_1_word_11', 'head_1_word_12', 'head_1_word_13', 'head_1_word_14', 'head_1_word_15', 'head_1_word_16', 'head_1_word_17', 'head_1_word_18', 'head_1_word_19', 'head_1_word_20', 'head_1_word_21', 'head_1_word_22', 'head_2_word_1', 'head_2_word_2', 'head_2_word_3', 'head_2_word_4', 'head_2_word_5', 'head_2_word_6', 'head_2_word_7', 'head_2_word_8', 'head_2_word_9', 'head_2_word_10', 'head_2_word_11', 'head_2_word_12', 'head_2_word_13', 'head_2_word_14', 'head_2_word_15', 'head_2_word_16', 'head_2_word_17', 'head_2_word_18', 'head_2_word_19', 'head_2_word_20', 'head_2_word_21', 'head_2_word_22', 'head_3_word_1', 'head_3_word_2', 'head_3_word_3', 'head_3_word_4', 'head_3_word_5', 'head_3_word_6', 'head_3_word_7', 'head_3_word_8', 'head_3_word_9', 'head_3_word_10', 'head_3_word_11', 'head_3_word_12', 'head_3_word_13', 'head_3_word_14', 'head_3_word_15', 'head_3_word_16', 'head_3_word_17', 'head_3_word_18', 'head_3_word_19', 'head_3_word_20', 'head_3_word_21', 'head_3_word_22', 'head_4_word_1', 'head_4_word_2', 'head_4_word_3', 'head_4_word_4', 'head_4_word_5', 'head_4_word_6', 'head_4_word_7', 'head_4_word_8', 'head_4_word_9', 'head_4_word_10', 'head_4_word_11', 'head_4_word_12', 'head_4_word_13', 'head_4_word_14', 'head_4_word_15', 'head_4_word_16', 'head_4_word_17', 'head_4_word_18', 'head_4_word_19', 'head_4_word_20', 'head_4_word_21', 'head_4_word_22', 'head_5_word_1', 'head_5_word_2', 'head_5_word_3', 'head_5_word_4', 'head_5_word_5', 'head_5_word_6', 'head_5_word_7', 'head_5_word_8', 'head_5_word_9', 'head_5_word_10', 'head_5_word_11', 'head_5_word_12', 'head_5_word_13', 'head_5_word_14', 'head_5_word_15', 'head_5_word_16', 'head_5_word_17', 'head_5_word_18', 'head_5_word_19', 'head_5_word_20', 'head_5_word_21', 'head_5_word_22', 'head_6_word_1', 'head_6_word_2', 'head_6_word_3', 'head_6_word_4', 'head_6_word_5', 'head_6_word_6', 'head_6_word_7', 'head_6_word_8', 'head_6_word_9', 'head_6_word_10', 'head_6_word_11', 'head_6_word_12', 'head_6_word_13', 'head_6_word_14', 'head_6_word_15', 'head_6_word_16', 'head_6_word_17', 'head_6_word_18', 'head_6_word_19', 'head_6_word_20', 'head_6_word_21', 'head_6_word_22', 'head_7_word_1', 'head_7_word_2', 'head_7_word_3', 'head_7_word_4', 'head_7_word_5', 'head_7_word_6', 'head_7_word_7', 'head_7_word_8', 'head_7_word_9', 'head_7_word_10', 'head_7_word_11', 'head_7_word_12', 'head_7_word_13', 'head_7_word_14', 'head_7_word_15', 'head_7_word_16', 'head_7_word_17', 'head_7_word_18', 'head_7_word_19', 'head_7_word_20', 'head_7_word_21', 'head_7_word_22', 'head_8_word_1', 'head_8_word_2', 'head_8_word_3', 'head_8_word_4', 'head_8_word_5', 'head_8_word_6', 'head_8_word_7', 'head_8_word_8', 'head_8_word_9', 'head_8_word_10', 'head_8_word_11', 'head_8_word_12', 'head_8_word_13', 'head_8_word_14', 'head_8_word_15', 'head_8_word_16', 'head_8_word_17', 'head_8_word_18', 'head_8_word_19', 'head_8_word_20', 'head_8_word_21', 'head_8_word_22', 'head_9_word_1', 'head_9_word_2', 'head_9_word_3', 'head_9_word_4', 'head_9_word_5', 'head_9_word_6', 'head_9_word_7', 'head_9_word_8', 'head_9_word_9', 'head_9_word_10', 'head_9_word_11', 'head_9_word_12', 'head_9_word_13', 'head_9_word_14', 'head_9_word_15', 'head_9_word_16', 'head_9_word_17', 'head_9_word_18', 'head_9_word_19', 'head_9_word_20', 'head_9_word_21', 'head_9_word_22', 'head_10_word_1', 'head_10_word_2', 'head_10_word_3', 'head_10_word_4', 'head_10_word_5', 'head_10_word_6', 'head_10_word_7', 'head_10_word_8', 'head_10_word_9', 'head_10_word_10', 'head_10_word_11', 'head_10_word_12', 'head_10_word_13', 'head_10_word_14', 'head_10_word_15', 'head_10_word_16', 'head_10_word_17', 'head_10_word_18', 'head_10_word_19', 'head_10_word_20', 'head_10_word_21', 'head_10_word_22', 'head_11_word_1', 'head_11_word_2', 'head_11_word_3', 'head_11_word_4', 'head_11_word_5', 'head_11_word_6', 'head_11_word_7', 'head_11_word_8', 'head_11_word_9', 'head_11_word_10', 'head_11_word_11', 'head_11_word_12', 'head_11_word_13', 'head_11_word_14', 'head_11_word_15', 'head_11_word_16', 'head_11_word_17', 'head_11_word_18', 'head_11_word_19', 'head_11_word_20', 'head_11_word_21', 'head_11_word_22', 'head_12_word_1', 'head_12_word_2', 'head_12_word_3', 'head_12_word_4', 'head_12_word_5', 'head_12_word_6', 'head_12_word_7', 'head_12_word_8', 'head_12_word_9', 'head_12_word_10', 'head_12_word_11', 'head_12_word_12', 'head_12_word_13', 'head_12_word_14', 'head_12_word_15', 'head_12_word_16', 'head_12_word_17', 'head_12_word_18', 'head_12_word_19', 'head_12_word_20', 'head_12_word_21', 'head_12_word_22', 'head_13_word_1', 'head_13_word_2', 'head_13_word_3', 'head_13_word_4', 'head_13_word_5', 'head_13_word_6', 'head_13_word_7', 'head_13_word_8', 'head_13_word_9', 'head_13_word_10', 'head_13_word_11', 'head_13_word_12', 'head_13_word_13', 'head_13_word_14', 'head_13_word_15', 'head_13_word_16', 'head_13_word_17', 'head_13_word_18', 'head_13_word_19', 'head_13_word_20', 'head_13_word_21', 'head_13_word_22', 'head_14_word_1', 'head_14_word_2', 'head_14_word_3', 'head_14_word_4', 'head_14_word_5', 'head_14_word_6', 'head_14_word_7', 'head_14_word_8', 'head_14_word_9', 'head_14_word_10', 'head_14_word_11', 'head_14_word_12', 'head_14_word_13', 'head_14_word_14', 'head_14_word_15', 'head_14_word_16', 'head_14_word_17', 'head_14_word_18', 'head_14_word_19', 'head_14_word_20', 'head_14_word_21', 'head_14_word_22', 'head_15_word_1', 'head_15_word_2', 'head_15_word_3', 'head_15_word_4', 'head_15_word_5', 'head_15_word_6', 'head_15_word_7', 'head_15_word_8', 'head_15_word_9', 'head_15_word_10', 'head_15_word_11', 'head_15_word_12', 'head_15_word_13', 'head_15_word_14', 'head_15_word_15', 'head_15_word_16', 'head_15_word_17', 'head_15_word_18', 'head_15_word_19', 'head_15_word_20', 'head_15_word_21', 'head_15_word_22', 'head_16_word_1', 'head_16_word_2', 'head_16_word_3', 'head_16_word_4', 'head_16_word_5', 'head_16_word_6', 'head_16_word_7', 'head_16_word_8', 'head_16_word_9', 'head_16_word_10', 'head_16_word_11', 'head_16_word_12', 'head_16_word_13', 'head_16_word_14', 'head_16_word_15', 'head_16_word_16', 'head_16_word_17', 'head_16_word_18', 'head_16_word_19', 'head_16_word_20', 'head_16_word_21', 'head_16_word_22', 'head_17_word_1', 'head_17_word_2', 'head_17_word_3', 'head_17_word_4', 'head_17_word_5', 'head_17_word_6', 'head_17_word_7', 'head_17_word_8', 'head_17_word_9', 'head_17_word_10', 'head_17_word_11', 'head_17_word_12', 'head_17_word_13', 'head_17_word_14', 'head_17_word_15', 'head_17_word_16', 'head_17_word_17', 'head_17_word_18', 'head_17_word_19', 'head_17_word_20', 'head_17_word_21', 'head_17_word_22', 'head_18_word_1', 'head_18_word_2', 'head_18_word_3', 'head_18_word_4', 'head_18_word_5', 'head_18_word_6', 'head_18_word_7', 'head_18_word_8', 'head_18_word_9', 'head_18_word_10', 'head_18_word_11', 'head_18_word_12', 'head_18_word_13', 'head_18_word_14', 'head_18_word_15', 'head_18_word_16', 'head_18_word_17', 'head_18_word_18', 'head_18_word_19', 'head_18_word_20', 'head_18_word_21', 'head_18_word_22', 'head_19_word_1', 'head_19_word_2', 'head_19_word_3', 'head_19_word_4', 'head_19_word_5', 'head_19_word_6', 'head_19_word_7', 'head_19_word_8', 'head_19_word_9', 'head_19_word_10', 'head_19_word_11', 'head_19_word_12', 'head_19_word_13', 'head_19_word_14', 'head_19_word_15', 'head_19_word_16', 'head_19_word_17', 'head_19_word_18', 'head_19_word_19', 'head_19_word_20', 'head_19_word_21', 'head_19_word_22', 'head_20_word_1', 'head_20_word_2', 'head_20_word_3', 'head_20_word_4', 'head_20_word_5', 'head_20_word_6', 'head_20_word_7', 'head_20_word_8', 'head_20_word_9', 'head_20_word_10', 'head_20_word_11', 'head_20_word_12', 'head_20_word_13', 'head_20_word_14', 'head_20_word_15', 'head_20_word_16', 'head_20_word_17', 'head_20_word_18', 'head_20_word_19', 'head_20_word_20', 'head_20_word_21', 'head_20_word_22', 'head_21_word_1', 'head_21_word_2', 'head_21_word_3', 'head_21_word_4', 'head_21_word_5', 'head_21_word_6', 'head_21_word_7', 'head_21_word_8', 'head_21_word_9', 'head_21_word_10', 'head_21_word_11', 'head_21_word_12', 'head_21_word_13', 'head_21_word_14', 'head_21_word_15', 'head_21_word_16', 'head_21_word_17', 'head_21_word_18', 'head_21_word_19', 'head_21_word_20', 'head_21_word_21', 'head_21_word_22', 'head_22_word_1', 'head_22_word_2', 'head_22_word_3', 'head_22_word_4', 'head_22_word_5', 'head_22_word_6', 'head_22_word_7', 'head_22_word_8', 'head_22_word_9', 'head_22_word_10', 'head_22_word_11', 'head_22_word_12', 'head_22_word_13', 'head_22_word_14', 'head_22_word_15', 'head_22_word_16', 'head_22_word_17', 'head_22_word_18', 'head_22_word_19', 'head_22_word_20', 'head_22_word_21', 'head_22_word_22', 'head_23_word_1', 'head_23_word_2', 'head_23_word_3', 'head_23_word_4', 'head_23_word_5', 'head_23_word_6', 'head_23_word_7', 'head_23_word_8', 'head_23_word_9', 'head_23_word_10', 'head_23_word_11', 'head_23_word_12', 'head_23_word_13', 'head_23_word_14', 'head_23_word_15', 'head_23_word_16', 'head_23_word_17', 'head_23_word_18', 'head_23_word_19', 'head_23_word_20', 'head_23_word_21', 'head_23_word_22', 'head_24_word_1', 'head_24_word_2', 'head_24_word_3', 'head_24_word_4', 'head_24_word_5', 'head_24_word_6', 'head_24_word_7', 'head_24_word_8', 'head_24_word_9', 'head_24_word_10', 'head_24_word_11', 'head_24_word_12', 'head_24_word_13', 'head_24_word_14', 'head_24_word_15', 'head_24_word_16', 'head_24_word_17', 'head_24_word_18', 'head_24_word_19', 'head_24_word_20', 'head_24_word_21', 'head_24_word_22', 'head_25_word_1', 'head_25_word_2', 'head_25_word_3', 'head_25_word_4', 'head_25_word_5', 'head_25_word_6', 'head_25_word_7', 'head_25_word_8', 'head_25_word_9', 'head_25_word_10', 'head_25_word_11', 'head_25_word_12', 'head_25_word_13', 'head_25_word_14', 'head_25_word_15', 'head_25_word_16', 'head_25_word_17', 'head_25_word_18', 'head_25_word_19', 'head_25_word_20', 'head_25_word_21', 'head_25_word_22'])"
      ]
     },
     "execution_count": 16,
     "metadata": {},
     "output_type": "execute_result"
    }
   ],
   "source": [
    "adict.keys()"
   ]
  },
  {
   "cell_type": "code",
   "execution_count": 24,
   "metadata": {},
   "outputs": [
    {
     "data": {
      "text/plain": [
       "torch.Size([1, 25, 22, 64])"
      ]
     },
     "execution_count": 24,
     "metadata": {},
     "output_type": "execute_result"
    }
   ],
   "source": [
    "oss[0].shape"
   ]
  },
  {
   "cell_type": "code",
   "execution_count": 30,
   "metadata": {},
   "outputs": [
    {
     "data": {
      "text/plain": [
       "tensor([ 6.8560e-03, -3.3396e-02,  7.1834e-03, -1.8522e-02, -4.9946e-04,\n",
       "         2.3369e-02, -1.4819e-03, -2.1805e-03,  7.1396e-03, -7.8446e-03,\n",
       "        -7.3506e-03,  7.0652e-03,  9.1161e-03,  1.6874e-02, -2.8840e-02,\n",
       "         2.6108e-02, -3.7830e-03,  8.6572e-03,  3.5217e-02, -2.9596e-02,\n",
       "        -3.9357e-04,  8.0426e-02, -4.3294e-02,  2.1639e-02, -1.7574e-02,\n",
       "        -2.9265e-02, -3.7063e-02,  1.0623e-02, -3.3631e-04, -3.0488e-02,\n",
       "        -1.3301e-02, -3.5427e-02,  2.4310e-02, -8.3496e-03, -6.2462e-03,\n",
       "        -2.3183e-02,  1.2953e-02, -3.4075e-02, -1.4713e-02,  8.4200e-04,\n",
       "         1.1093e-02, -1.1519e-02, -2.4327e-02, -3.1827e-02, -4.1753e-03,\n",
       "         6.0492e-03, -7.6197e-03, -9.8767e-03,  1.4240e-02, -7.1642e-03,\n",
       "        -6.7296e-03,  1.7374e-02, -4.0278e-03,  1.5930e-02, -1.3119e-02,\n",
       "         2.2760e-02,  2.2517e-02, -4.2116e-02, -2.8315e-02,  2.3001e-02,\n",
       "        -5.0896e-03, -5.2665e-05,  1.1372e-03, -2.5327e-03])"
      ]
     },
     "execution_count": 30,
     "metadata": {},
     "output_type": "execute_result"
    }
   ],
   "source": [
    "oss[0][0][0][1]"
   ]
  },
  {
   "cell_type": "code",
   "execution_count": 20,
   "metadata": {},
   "outputs": [
    {
     "data": {
      "text/plain": [
       "tensor([ 6.8560e-03, -3.3396e-02,  7.1834e-03, -1.8522e-02, -4.9946e-04,\n",
       "         2.3369e-02, -1.4819e-03, -2.1805e-03,  7.1396e-03, -7.8446e-03,\n",
       "        -7.3506e-03,  7.0652e-03,  9.1161e-03,  1.6874e-02, -2.8840e-02,\n",
       "         2.6108e-02, -3.7830e-03,  8.6572e-03,  3.5217e-02, -2.9596e-02,\n",
       "        -3.9357e-04,  8.0426e-02, -4.3294e-02,  2.1639e-02, -1.7574e-02,\n",
       "        -2.9265e-02, -3.7063e-02,  1.0623e-02, -3.3631e-04, -3.0488e-02,\n",
       "        -1.3301e-02, -3.5427e-02,  2.4310e-02, -8.3496e-03, -6.2462e-03,\n",
       "        -2.3183e-02,  1.2953e-02, -3.4075e-02, -1.4713e-02,  8.4200e-04,\n",
       "         1.1093e-02, -1.1519e-02, -2.4327e-02, -3.1827e-02, -4.1753e-03,\n",
       "         6.0492e-03, -7.6197e-03, -9.8767e-03,  1.4240e-02, -7.1642e-03,\n",
       "        -6.7296e-03,  1.7374e-02, -4.0278e-03,  1.5930e-02, -1.3119e-02,\n",
       "         2.2760e-02,  2.2517e-02, -4.2116e-02, -2.8315e-02,  2.3001e-02,\n",
       "        -5.0896e-03, -5.2665e-05,  1.1372e-03, -2.5327e-03])"
      ]
     },
     "execution_count": 20,
     "metadata": {},
     "output_type": "execute_result"
    }
   ],
   "source": [
    "adict['head_1_word_2'][0]"
   ]
  },
  {
   "cell_type": "code",
   "execution_count": 19,
   "metadata": {},
   "outputs": [
    {
     "data": {
      "text/plain": [
       "[tensor([ 4.8211e-03, -3.3903e-02,  1.9640e-03, -2.1692e-02,  5.5888e-03,\n",
       "          2.6403e-02, -4.0567e-03,  1.6367e-03,  5.3788e-03, -4.8036e-03,\n",
       "         -1.1672e-02,  1.9453e-02,  1.0201e-02,  1.1253e-02, -3.5354e-02,\n",
       "          2.5013e-02, -2.0711e-03, -7.9277e-04,  3.7744e-02, -2.4343e-02,\n",
       "         -1.2822e-04,  7.5201e-02, -4.5358e-02,  2.2188e-02, -1.9178e-02,\n",
       "         -2.7239e-02, -3.5703e-02,  1.0314e-02, -2.1588e-06, -3.5248e-02,\n",
       "         -2.1442e-02, -3.2757e-02,  2.8156e-02, -7.2399e-03, -9.2617e-03,\n",
       "         -1.6484e-02,  1.5226e-02, -3.0660e-02, -1.5372e-02,  3.4380e-03,\n",
       "          1.5665e-02, -1.1248e-02, -1.9899e-02, -3.9064e-02,  4.1499e-03,\n",
       "         -1.9762e-03, -1.1701e-02, -2.0029e-02,  1.5029e-02, -7.3606e-03,\n",
       "         -2.7049e-03,  2.5045e-02, -3.7679e-03,  1.3631e-02, -1.5253e-02,\n",
       "          2.1811e-02,  3.2364e-02, -4.3619e-02, -2.1905e-02,  2.2750e-02,\n",
       "         -5.1420e-03, -8.4699e-03,  4.2160e-03, -3.4973e-03]),\n",
       " tensor([ 0.0306, -0.0275,  0.0682,  0.0185, -0.0717, -0.0121,  0.0286, -0.0468,\n",
       "          0.0277, -0.0434,  0.0432, -0.1377, -0.0036,  0.0826,  0.0473,  0.0389,\n",
       "         -0.0238,  0.1191,  0.0057, -0.0910, -0.0035,  0.1415, -0.0192,  0.0152,\n",
       "          0.0012, -0.0529, -0.0530,  0.0142, -0.0042,  0.0252,  0.0819, -0.0666,\n",
       "         -0.0206, -0.0213,  0.0290, -0.1015, -0.0136, -0.0740, -0.0070, -0.0295,\n",
       "         -0.0424, -0.0147, -0.0761,  0.0528, -0.1015,  0.0999,  0.0401,  0.1088,\n",
       "          0.0050, -0.0049, -0.0538, -0.0723, -0.0071,  0.0428,  0.0118,  0.0339,\n",
       "         -0.0926, -0.0245, -0.1032,  0.0259, -0.0045,  0.0983, -0.0348,  0.0087])]"
      ]
     },
     "execution_count": 19,
     "metadata": {},
     "output_type": "execute_result"
    }
   ],
   "source": [
    "adict['head_1_word_2'][1]"
   ]
  },
  {
   "cell_type": "code",
   "execution_count": 91,
   "metadata": {},
   "outputs": [
    {
     "data": {
      "text/plain": [
       "torch.Size([25, 22, 64])"
      ]
     },
     "execution_count": 91,
     "metadata": {},
     "output_type": "execute_result"
    }
   ],
   "source": [
    "oss[0].squeeze().shape"
   ]
  },
  {
   "cell_type": "code",
   "execution_count": 76,
   "metadata": {},
   "outputs": [
    {
     "data": {
      "text/plain": [
       "(5, 4, 2)"
      ]
     },
     "execution_count": 76,
     "metadata": {},
     "output_type": "execute_result"
    }
   ],
   "source": [
    "array_list[0].squeeze().shape"
   ]
  },
  {
   "cell_type": "code",
   "execution_count": 66,
   "metadata": {},
   "outputs": [
    {
     "data": {
      "text/plain": [
       "array([[['h1_w1_d1', 'h1_w1_d2'],\n",
       "        ['h1_w2_d1', 'h1_w2_d2'],\n",
       "        ['h1_w3_d1', 'h1_w3_d2'],\n",
       "        ['h1_w4_d1', 'h1_w4_d2']],\n",
       "\n",
       "       [['h2_w1_d1', 'h2_w1_d2'],\n",
       "        ['h2_w2_d1', 'h2_w2_d2'],\n",
       "        ['h2_w3_d1', 'h2_w3_d2'],\n",
       "        ['h2_w4_d1', 'h2_w4_d2']],\n",
       "\n",
       "       [['h3_w1_d1', 'h3_w1_d2'],\n",
       "        ['h3_w2_d1', 'h3_w2_d2'],\n",
       "        ['h3_w3_d1', 'h3_w3_d2'],\n",
       "        ['h3_w4_d1', 'h3_w4_d2']],\n",
       "\n",
       "       [['h4_w1_d1', 'h4_w1_d2'],\n",
       "        ['h4_w2_d1', 'h4_w2_d2'],\n",
       "        ['h4_w3_d1', 'h4_w3_d2'],\n",
       "        ['h4_w4_d1', 'h4_w4_d2']],\n",
       "\n",
       "       [['h5_w1_d1', 'h5_w1_d2'],\n",
       "        ['h5_w2_d1', 'h5_w2_d2'],\n",
       "        ['h5_w3_d1', 'h5_w3_d2'],\n",
       "        ['h5_w4_d1', 'h5_w4_d2']]], dtype=object)"
      ]
     },
     "execution_count": 66,
     "metadata": {},
     "output_type": "execute_result"
    }
   ],
   "source": [
    "array_list[0].reshape(5, 4, 2)"
   ]
  },
  {
   "cell_type": "code",
   "execution_count": 68,
   "metadata": {},
   "outputs": [
    {
     "data": {
      "text/plain": [
       "array([[[['h1_w1_d1', 'h1_w1_d2'],\n",
       "         ['h1_w2_d1', 'h1_w2_d2'],\n",
       "         ['h1_w3_d1', 'h1_w3_d2'],\n",
       "         ['h1_w4_d1', 'h1_w4_d2']],\n",
       "\n",
       "        [['h2_w1_d1', 'h2_w1_d2'],\n",
       "         ['h2_w2_d1', 'h2_w2_d2'],\n",
       "         ['h2_w3_d1', 'h2_w3_d2'],\n",
       "         ['h2_w4_d1', 'h2_w4_d2']],\n",
       "\n",
       "        [['h3_w1_d1', 'h3_w1_d2'],\n",
       "         ['h3_w2_d1', 'h3_w2_d2'],\n",
       "         ['h3_w3_d1', 'h3_w3_d2'],\n",
       "         ['h3_w4_d1', 'h3_w4_d2']],\n",
       "\n",
       "        [['h4_w1_d1', 'h4_w1_d2'],\n",
       "         ['h4_w2_d1', 'h4_w2_d2'],\n",
       "         ['h4_w3_d1', 'h4_w3_d2'],\n",
       "         ['h4_w4_d1', 'h4_w4_d2']],\n",
       "\n",
       "        [['h5_w1_d1', 'h5_w1_d2'],\n",
       "         ['h5_w2_d1', 'h5_w2_d2'],\n",
       "         ['h5_w3_d1', 'h5_w3_d2'],\n",
       "         ['h5_w4_d1', 'h5_w4_d2']]]], dtype=object)"
      ]
     },
     "execution_count": 68,
     "metadata": {},
     "output_type": "execute_result"
    }
   ],
   "source": [
    "array_list[0]"
   ]
  },
  {
   "cell_type": "code",
   "execution_count": 22,
   "metadata": {},
   "outputs": [
    {
     "name": "stdout",
     "output_type": "stream",
     "text": [
      "['ws1_l1_h1_wt1', 'ws1_l1_h2_wt1', 'ws1_l1_h3_wt1', 'ws1_l1_h4_wt1', 'ws1_l1_h5_wt1', 'ws1_l1_h1_wt2', 'ws1_l1_h2_wt2', 'ws1_l1_h3_wt2', 'ws1_l1_h4_wt2', 'ws1_l1_h5_wt2', 'ws1_l1_h1_wt3', 'ws1_l1_h2_wt3', 'ws1_l1_h3_wt3', 'ws1_l1_h4_wt3', 'ws1_l1_h5_wt3', 'ws1_l1_h1_wt4', 'ws1_l1_h2_wt4', 'ws1_l1_h3_wt4', 'ws1_l1_h4_wt4', 'ws1_l1_h5_wt4', 'ws1_l2_h1_wt1', 'ws1_l2_h2_wt1', 'ws1_l2_h3_wt1', 'ws1_l2_h4_wt1', 'ws1_l2_h5_wt1', 'ws1_l2_h1_wt2', 'ws1_l2_h2_wt2', 'ws1_l2_h3_wt2', 'ws1_l2_h4_wt2', 'ws1_l2_h5_wt2', 'ws1_l2_h1_wt3', 'ws1_l2_h2_wt3', 'ws1_l2_h3_wt3', 'ws1_l2_h4_wt3', 'ws1_l2_h5_wt3', 'ws1_l2_h1_wt4', 'ws1_l2_h2_wt4', 'ws1_l2_h3_wt4', 'ws1_l2_h4_wt4', 'ws1_l2_h5_wt4', 'ws1_l3_h1_wt1', 'ws1_l3_h2_wt1', 'ws1_l3_h3_wt1', 'ws1_l3_h4_wt1', 'ws1_l3_h5_wt1', 'ws1_l3_h1_wt2', 'ws1_l3_h2_wt2', 'ws1_l3_h3_wt2', 'ws1_l3_h4_wt2', 'ws1_l3_h5_wt2', 'ws1_l3_h1_wt3', 'ws1_l3_h2_wt3', 'ws1_l3_h3_wt3', 'ws1_l3_h4_wt3', 'ws1_l3_h5_wt3', 'ws1_l3_h1_wt4', 'ws1_l3_h2_wt4', 'ws1_l3_h3_wt4', 'ws1_l3_h4_wt4', 'ws1_l3_h5_wt4', 'ws2_l1_h1_wt1', 'ws2_l1_h2_wt1', 'ws2_l1_h3_wt1', 'ws2_l1_h4_wt1', 'ws2_l1_h5_wt1', 'ws2_l1_h1_wt2', 'ws2_l1_h2_wt2', 'ws2_l1_h3_wt2', 'ws2_l1_h4_wt2', 'ws2_l1_h5_wt2', 'ws2_l1_h1_wt3', 'ws2_l1_h2_wt3', 'ws2_l1_h3_wt3', 'ws2_l1_h4_wt3', 'ws2_l1_h5_wt3', 'ws2_l1_h1_wt4', 'ws2_l1_h2_wt4', 'ws2_l1_h3_wt4', 'ws2_l1_h4_wt4', 'ws2_l1_h5_wt4', 'ws2_l2_h1_wt1', 'ws2_l2_h2_wt1', 'ws2_l2_h3_wt1', 'ws2_l2_h4_wt1', 'ws2_l2_h5_wt1', 'ws2_l2_h1_wt2', 'ws2_l2_h2_wt2', 'ws2_l2_h3_wt2', 'ws2_l2_h4_wt2', 'ws2_l2_h5_wt2', 'ws2_l2_h1_wt3', 'ws2_l2_h2_wt3', 'ws2_l2_h3_wt3', 'ws2_l2_h4_wt3', 'ws2_l2_h5_wt3', 'ws2_l2_h1_wt4', 'ws2_l2_h2_wt4', 'ws2_l2_h3_wt4', 'ws2_l2_h4_wt4', 'ws2_l2_h5_wt4', 'ws2_l3_h1_wt1', 'ws2_l3_h2_wt1', 'ws2_l3_h3_wt1', 'ws2_l3_h4_wt1', 'ws2_l3_h5_wt1', 'ws2_l3_h1_wt2', 'ws2_l3_h2_wt2', 'ws2_l3_h3_wt2', 'ws2_l3_h4_wt2', 'ws2_l3_h5_wt2', 'ws2_l3_h1_wt3', 'ws2_l3_h2_wt3', 'ws2_l3_h3_wt3', 'ws2_l3_h4_wt3', 'ws2_l3_h5_wt3', 'ws2_l3_h1_wt4', 'ws2_l3_h2_wt4', 'ws2_l3_h3_wt4', 'ws2_l3_h4_wt4', 'ws2_l3_h5_wt4', 'ws3_l1_h1_wt1', 'ws3_l1_h2_wt1', 'ws3_l1_h3_wt1', 'ws3_l1_h4_wt1', 'ws3_l1_h5_wt1', 'ws3_l1_h1_wt2', 'ws3_l1_h2_wt2', 'ws3_l1_h3_wt2', 'ws3_l1_h4_wt2', 'ws3_l1_h5_wt2', 'ws3_l1_h1_wt3', 'ws3_l1_h2_wt3', 'ws3_l1_h3_wt3', 'ws3_l1_h4_wt3', 'ws3_l1_h5_wt3', 'ws3_l1_h1_wt4', 'ws3_l1_h2_wt4', 'ws3_l1_h3_wt4', 'ws3_l1_h4_wt4', 'ws3_l1_h5_wt4', 'ws3_l2_h1_wt1', 'ws3_l2_h2_wt1', 'ws3_l2_h3_wt1', 'ws3_l2_h4_wt1', 'ws3_l2_h5_wt1', 'ws3_l2_h1_wt2', 'ws3_l2_h2_wt2', 'ws3_l2_h3_wt2', 'ws3_l2_h4_wt2', 'ws3_l2_h5_wt2', 'ws3_l2_h1_wt3', 'ws3_l2_h2_wt3', 'ws3_l2_h3_wt3', 'ws3_l2_h4_wt3', 'ws3_l2_h5_wt3', 'ws3_l2_h1_wt4', 'ws3_l2_h2_wt4', 'ws3_l2_h3_wt4', 'ws3_l2_h4_wt4', 'ws3_l2_h5_wt4', 'ws3_l3_h1_wt1', 'ws3_l3_h2_wt1', 'ws3_l3_h3_wt1', 'ws3_l3_h4_wt1', 'ws3_l3_h5_wt1', 'ws3_l3_h1_wt2', 'ws3_l3_h2_wt2', 'ws3_l3_h3_wt2', 'ws3_l3_h4_wt2', 'ws3_l3_h5_wt2', 'ws3_l3_h1_wt3', 'ws3_l3_h2_wt3', 'ws3_l3_h3_wt3', 'ws3_l3_h4_wt3', 'ws3_l3_h5_wt3', 'ws3_l3_h1_wt4', 'ws3_l3_h2_wt4', 'ws3_l3_h3_wt4', 'ws3_l3_h4_wt4', 'ws3_l3_h5_wt4', 'ws4_l1_h1_wt1', 'ws4_l1_h2_wt1', 'ws4_l1_h3_wt1', 'ws4_l1_h4_wt1', 'ws4_l1_h5_wt1', 'ws4_l1_h1_wt2', 'ws4_l1_h2_wt2', 'ws4_l1_h3_wt2', 'ws4_l1_h4_wt2', 'ws4_l1_h5_wt2', 'ws4_l1_h1_wt3', 'ws4_l1_h2_wt3', 'ws4_l1_h3_wt3', 'ws4_l1_h4_wt3', 'ws4_l1_h5_wt3', 'ws4_l1_h1_wt4', 'ws4_l1_h2_wt4', 'ws4_l1_h3_wt4', 'ws4_l1_h4_wt4', 'ws4_l1_h5_wt4', 'ws4_l2_h1_wt1', 'ws4_l2_h2_wt1', 'ws4_l2_h3_wt1', 'ws4_l2_h4_wt1', 'ws4_l2_h5_wt1', 'ws4_l2_h1_wt2', 'ws4_l2_h2_wt2', 'ws4_l2_h3_wt2', 'ws4_l2_h4_wt2', 'ws4_l2_h5_wt2', 'ws4_l2_h1_wt3', 'ws4_l2_h2_wt3', 'ws4_l2_h3_wt3', 'ws4_l2_h4_wt3', 'ws4_l2_h5_wt3', 'ws4_l2_h1_wt4', 'ws4_l2_h2_wt4', 'ws4_l2_h3_wt4', 'ws4_l2_h4_wt4', 'ws4_l2_h5_wt4', 'ws4_l3_h1_wt1', 'ws4_l3_h2_wt1', 'ws4_l3_h3_wt1', 'ws4_l3_h4_wt1', 'ws4_l3_h5_wt1', 'ws4_l3_h1_wt2', 'ws4_l3_h2_wt2', 'ws4_l3_h3_wt2', 'ws4_l3_h4_wt2', 'ws4_l3_h5_wt2', 'ws4_l3_h1_wt3', 'ws4_l3_h2_wt3', 'ws4_l3_h3_wt3', 'ws4_l3_h4_wt3', 'ws4_l3_h5_wt3', 'ws4_l3_h1_wt4', 'ws4_l3_h2_wt4', 'ws4_l3_h3_wt4', 'ws4_l3_h4_wt4', 'ws4_l3_h5_wt4']\n"
     ]
    }
   ],
   "source": [
    "# Parameters\n",
    "seq_len = 4       # Number of words/tokens in the sequence\n",
    "num_layer = 3     # Number of layers in the model\n",
    "num_head = 5      # Number of heads in each layer\n",
    "\n",
    "# Initialize the list\n",
    "data = []\n",
    "\n",
    "# Generate the list based on the pattern\n",
    "for ws in range(1, seq_len + 1):\n",
    "    for l in range(1, num_layer + 1):\n",
    "        for wt in range(1, seq_len + 1):\n",
    "            for h in range(1, num_head + 1):\n",
    "                data.append(f'ws{ws}_l{l}_h{h}_wt{wt}')\n",
    "\n",
    "print(data)\n"
   ]
  },
  {
   "cell_type": "code",
   "execution_count": 27,
   "metadata": {},
   "outputs": [
    {
     "data": {
      "text/plain": [
       "array([[[['ws1_l1_h1_wt1', 'ws1_l1_h2_wt1', 'ws1_l1_h3_wt1',\n",
       "          'ws1_l1_h4_wt1', 'ws1_l1_h5_wt1'],\n",
       "         ['ws1_l1_h1_wt2', 'ws1_l1_h2_wt2', 'ws1_l1_h3_wt2',\n",
       "          'ws1_l1_h4_wt2', 'ws1_l1_h5_wt2'],\n",
       "         ['ws1_l1_h1_wt3', 'ws1_l1_h2_wt3', 'ws1_l1_h3_wt3',\n",
       "          'ws1_l1_h4_wt3', 'ws1_l1_h5_wt3']],\n",
       "\n",
       "        [['ws1_l1_h1_wt4', 'ws1_l1_h2_wt4', 'ws1_l1_h3_wt4',\n",
       "          'ws1_l1_h4_wt4', 'ws1_l1_h5_wt4'],\n",
       "         ['ws1_l2_h1_wt1', 'ws1_l2_h2_wt1', 'ws1_l2_h3_wt1',\n",
       "          'ws1_l2_h4_wt1', 'ws1_l2_h5_wt1'],\n",
       "         ['ws1_l2_h1_wt2', 'ws1_l2_h2_wt2', 'ws1_l2_h3_wt2',\n",
       "          'ws1_l2_h4_wt2', 'ws1_l2_h5_wt2']],\n",
       "\n",
       "        [['ws1_l2_h1_wt3', 'ws1_l2_h2_wt3', 'ws1_l2_h3_wt3',\n",
       "          'ws1_l2_h4_wt3', 'ws1_l2_h5_wt3'],\n",
       "         ['ws1_l2_h1_wt4', 'ws1_l2_h2_wt4', 'ws1_l2_h3_wt4',\n",
       "          'ws1_l2_h4_wt4', 'ws1_l2_h5_wt4'],\n",
       "         ['ws1_l3_h1_wt1', 'ws1_l3_h2_wt1', 'ws1_l3_h3_wt1',\n",
       "          'ws1_l3_h4_wt1', 'ws1_l3_h5_wt1']],\n",
       "\n",
       "        [['ws1_l3_h1_wt2', 'ws1_l3_h2_wt2', 'ws1_l3_h3_wt2',\n",
       "          'ws1_l3_h4_wt2', 'ws1_l3_h5_wt2'],\n",
       "         ['ws1_l3_h1_wt3', 'ws1_l3_h2_wt3', 'ws1_l3_h3_wt3',\n",
       "          'ws1_l3_h4_wt3', 'ws1_l3_h5_wt3'],\n",
       "         ['ws1_l3_h1_wt4', 'ws1_l3_h2_wt4', 'ws1_l3_h3_wt4',\n",
       "          'ws1_l3_h4_wt4', 'ws1_l3_h5_wt4']]],\n",
       "\n",
       "\n",
       "       [[['ws2_l1_h1_wt1', 'ws2_l1_h2_wt1', 'ws2_l1_h3_wt1',\n",
       "          'ws2_l1_h4_wt1', 'ws2_l1_h5_wt1'],\n",
       "         ['ws2_l1_h1_wt2', 'ws2_l1_h2_wt2', 'ws2_l1_h3_wt2',\n",
       "          'ws2_l1_h4_wt2', 'ws2_l1_h5_wt2'],\n",
       "         ['ws2_l1_h1_wt3', 'ws2_l1_h2_wt3', 'ws2_l1_h3_wt3',\n",
       "          'ws2_l1_h4_wt3', 'ws2_l1_h5_wt3']],\n",
       "\n",
       "        [['ws2_l1_h1_wt4', 'ws2_l1_h2_wt4', 'ws2_l1_h3_wt4',\n",
       "          'ws2_l1_h4_wt4', 'ws2_l1_h5_wt4'],\n",
       "         ['ws2_l2_h1_wt1', 'ws2_l2_h2_wt1', 'ws2_l2_h3_wt1',\n",
       "          'ws2_l2_h4_wt1', 'ws2_l2_h5_wt1'],\n",
       "         ['ws2_l2_h1_wt2', 'ws2_l2_h2_wt2', 'ws2_l2_h3_wt2',\n",
       "          'ws2_l2_h4_wt2', 'ws2_l2_h5_wt2']],\n",
       "\n",
       "        [['ws2_l2_h1_wt3', 'ws2_l2_h2_wt3', 'ws2_l2_h3_wt3',\n",
       "          'ws2_l2_h4_wt3', 'ws2_l2_h5_wt3'],\n",
       "         ['ws2_l2_h1_wt4', 'ws2_l2_h2_wt4', 'ws2_l2_h3_wt4',\n",
       "          'ws2_l2_h4_wt4', 'ws2_l2_h5_wt4'],\n",
       "         ['ws2_l3_h1_wt1', 'ws2_l3_h2_wt1', 'ws2_l3_h3_wt1',\n",
       "          'ws2_l3_h4_wt1', 'ws2_l3_h5_wt1']],\n",
       "\n",
       "        [['ws2_l3_h1_wt2', 'ws2_l3_h2_wt2', 'ws2_l3_h3_wt2',\n",
       "          'ws2_l3_h4_wt2', 'ws2_l3_h5_wt2'],\n",
       "         ['ws2_l3_h1_wt3', 'ws2_l3_h2_wt3', 'ws2_l3_h3_wt3',\n",
       "          'ws2_l3_h4_wt3', 'ws2_l3_h5_wt3'],\n",
       "         ['ws2_l3_h1_wt4', 'ws2_l3_h2_wt4', 'ws2_l3_h3_wt4',\n",
       "          'ws2_l3_h4_wt4', 'ws2_l3_h5_wt4']]],\n",
       "\n",
       "\n",
       "       [[['ws3_l1_h1_wt1', 'ws3_l1_h2_wt1', 'ws3_l1_h3_wt1',\n",
       "          'ws3_l1_h4_wt1', 'ws3_l1_h5_wt1'],\n",
       "         ['ws3_l1_h1_wt2', 'ws3_l1_h2_wt2', 'ws3_l1_h3_wt2',\n",
       "          'ws3_l1_h4_wt2', 'ws3_l1_h5_wt2'],\n",
       "         ['ws3_l1_h1_wt3', 'ws3_l1_h2_wt3', 'ws3_l1_h3_wt3',\n",
       "          'ws3_l1_h4_wt3', 'ws3_l1_h5_wt3']],\n",
       "\n",
       "        [['ws3_l1_h1_wt4', 'ws3_l1_h2_wt4', 'ws3_l1_h3_wt4',\n",
       "          'ws3_l1_h4_wt4', 'ws3_l1_h5_wt4'],\n",
       "         ['ws3_l2_h1_wt1', 'ws3_l2_h2_wt1', 'ws3_l2_h3_wt1',\n",
       "          'ws3_l2_h4_wt1', 'ws3_l2_h5_wt1'],\n",
       "         ['ws3_l2_h1_wt2', 'ws3_l2_h2_wt2', 'ws3_l2_h3_wt2',\n",
       "          'ws3_l2_h4_wt2', 'ws3_l2_h5_wt2']],\n",
       "\n",
       "        [['ws3_l2_h1_wt3', 'ws3_l2_h2_wt3', 'ws3_l2_h3_wt3',\n",
       "          'ws3_l2_h4_wt3', 'ws3_l2_h5_wt3'],\n",
       "         ['ws3_l2_h1_wt4', 'ws3_l2_h2_wt4', 'ws3_l2_h3_wt4',\n",
       "          'ws3_l2_h4_wt4', 'ws3_l2_h5_wt4'],\n",
       "         ['ws3_l3_h1_wt1', 'ws3_l3_h2_wt1', 'ws3_l3_h3_wt1',\n",
       "          'ws3_l3_h4_wt1', 'ws3_l3_h5_wt1']],\n",
       "\n",
       "        [['ws3_l3_h1_wt2', 'ws3_l3_h2_wt2', 'ws3_l3_h3_wt2',\n",
       "          'ws3_l3_h4_wt2', 'ws3_l3_h5_wt2'],\n",
       "         ['ws3_l3_h1_wt3', 'ws3_l3_h2_wt3', 'ws3_l3_h3_wt3',\n",
       "          'ws3_l3_h4_wt3', 'ws3_l3_h5_wt3'],\n",
       "         ['ws3_l3_h1_wt4', 'ws3_l3_h2_wt4', 'ws3_l3_h3_wt4',\n",
       "          'ws3_l3_h4_wt4', 'ws3_l3_h5_wt4']]],\n",
       "\n",
       "\n",
       "       [[['ws4_l1_h1_wt1', 'ws4_l1_h2_wt1', 'ws4_l1_h3_wt1',\n",
       "          'ws4_l1_h4_wt1', 'ws4_l1_h5_wt1'],\n",
       "         ['ws4_l1_h1_wt2', 'ws4_l1_h2_wt2', 'ws4_l1_h3_wt2',\n",
       "          'ws4_l1_h4_wt2', 'ws4_l1_h5_wt2'],\n",
       "         ['ws4_l1_h1_wt3', 'ws4_l1_h2_wt3', 'ws4_l1_h3_wt3',\n",
       "          'ws4_l1_h4_wt3', 'ws4_l1_h5_wt3']],\n",
       "\n",
       "        [['ws4_l1_h1_wt4', 'ws4_l1_h2_wt4', 'ws4_l1_h3_wt4',\n",
       "          'ws4_l1_h4_wt4', 'ws4_l1_h5_wt4'],\n",
       "         ['ws4_l2_h1_wt1', 'ws4_l2_h2_wt1', 'ws4_l2_h3_wt1',\n",
       "          'ws4_l2_h4_wt1', 'ws4_l2_h5_wt1'],\n",
       "         ['ws4_l2_h1_wt2', 'ws4_l2_h2_wt2', 'ws4_l2_h3_wt2',\n",
       "          'ws4_l2_h4_wt2', 'ws4_l2_h5_wt2']],\n",
       "\n",
       "        [['ws4_l2_h1_wt3', 'ws4_l2_h2_wt3', 'ws4_l2_h3_wt3',\n",
       "          'ws4_l2_h4_wt3', 'ws4_l2_h5_wt3'],\n",
       "         ['ws4_l2_h1_wt4', 'ws4_l2_h2_wt4', 'ws4_l2_h3_wt4',\n",
       "          'ws4_l2_h4_wt4', 'ws4_l2_h5_wt4'],\n",
       "         ['ws4_l3_h1_wt1', 'ws4_l3_h2_wt1', 'ws4_l3_h3_wt1',\n",
       "          'ws4_l3_h4_wt1', 'ws4_l3_h5_wt1']],\n",
       "\n",
       "        [['ws4_l3_h1_wt2', 'ws4_l3_h2_wt2', 'ws4_l3_h3_wt2',\n",
       "          'ws4_l3_h4_wt2', 'ws4_l3_h5_wt2'],\n",
       "         ['ws4_l3_h1_wt3', 'ws4_l3_h2_wt3', 'ws4_l3_h3_wt3',\n",
       "          'ws4_l3_h4_wt3', 'ws4_l3_h5_wt3'],\n",
       "         ['ws4_l3_h1_wt4', 'ws4_l3_h2_wt4', 'ws4_l3_h3_wt4',\n",
       "          'ws4_l3_h4_wt4', 'ws4_l3_h5_wt4']]]], dtype='<U13')"
      ]
     },
     "execution_count": 27,
     "metadata": {},
     "output_type": "execute_result"
    }
   ],
   "source": [
    "# convert data to numpy array\n",
    "import numpy as np\n",
    "data = np.array(data)\n",
    "data_new = data.reshape(seq_len, seq_len, num_layer, num_head)\n",
    "data_new"
   ]
  },
  {
   "cell_type": "code",
   "execution_count": 24,
   "metadata": {},
   "outputs": [
    {
     "data": {
      "text/plain": [
       "(4, 3, 5, 4)"
      ]
     },
     "execution_count": 24,
     "metadata": {},
     "output_type": "execute_result"
    }
   ],
   "source": [
    "data_new.shape"
   ]
  },
  {
   "cell_type": "code",
   "execution_count": 26,
   "metadata": {},
   "outputs": [
    {
     "data": {
      "text/plain": [
       "array([[['ws1_l1_h1_wt1', 'ws1_l1_h2_wt1', 'ws1_l1_h3_wt1',\n",
       "         'ws1_l1_h4_wt1'],\n",
       "        ['ws1_l1_h5_wt1', 'ws1_l1_h1_wt2', 'ws1_l1_h2_wt2',\n",
       "         'ws1_l1_h3_wt2'],\n",
       "        ['ws1_l1_h4_wt2', 'ws1_l1_h5_wt2', 'ws1_l1_h1_wt3',\n",
       "         'ws1_l1_h2_wt3'],\n",
       "        ['ws1_l1_h3_wt3', 'ws1_l1_h4_wt3', 'ws1_l1_h5_wt3',\n",
       "         'ws1_l1_h1_wt4'],\n",
       "        ['ws1_l1_h2_wt4', 'ws1_l1_h3_wt4', 'ws1_l1_h4_wt4',\n",
       "         'ws1_l1_h5_wt4']],\n",
       "\n",
       "       [['ws1_l2_h1_wt1', 'ws1_l2_h2_wt1', 'ws1_l2_h3_wt1',\n",
       "         'ws1_l2_h4_wt1'],\n",
       "        ['ws1_l2_h5_wt1', 'ws1_l2_h1_wt2', 'ws1_l2_h2_wt2',\n",
       "         'ws1_l2_h3_wt2'],\n",
       "        ['ws1_l2_h4_wt2', 'ws1_l2_h5_wt2', 'ws1_l2_h1_wt3',\n",
       "         'ws1_l2_h2_wt3'],\n",
       "        ['ws1_l2_h3_wt3', 'ws1_l2_h4_wt3', 'ws1_l2_h5_wt3',\n",
       "         'ws1_l2_h1_wt4'],\n",
       "        ['ws1_l2_h2_wt4', 'ws1_l2_h3_wt4', 'ws1_l2_h4_wt4',\n",
       "         'ws1_l2_h5_wt4']],\n",
       "\n",
       "       [['ws1_l3_h1_wt1', 'ws1_l3_h2_wt1', 'ws1_l3_h3_wt1',\n",
       "         'ws1_l3_h4_wt1'],\n",
       "        ['ws1_l3_h5_wt1', 'ws1_l3_h1_wt2', 'ws1_l3_h2_wt2',\n",
       "         'ws1_l3_h3_wt2'],\n",
       "        ['ws1_l3_h4_wt2', 'ws1_l3_h5_wt2', 'ws1_l3_h1_wt3',\n",
       "         'ws1_l3_h2_wt3'],\n",
       "        ['ws1_l3_h3_wt3', 'ws1_l3_h4_wt3', 'ws1_l3_h5_wt3',\n",
       "         'ws1_l3_h1_wt4'],\n",
       "        ['ws1_l3_h2_wt4', 'ws1_l3_h3_wt4', 'ws1_l3_h4_wt4',\n",
       "         'ws1_l3_h5_wt4']]], dtype='<U13')"
      ]
     },
     "execution_count": 26,
     "metadata": {},
     "output_type": "execute_result"
    }
   ],
   "source": [
    "data_new[0]"
   ]
  },
  {
   "cell_type": "code",
   "execution_count": 89,
   "metadata": {},
   "outputs": [
    {
     "name": "stdout",
     "output_type": "stream",
     "text": [
      "tensor([ 4.8211e-03, -3.3903e-02,  1.9639e-03, -2.1692e-02,  5.5888e-03,\n",
      "         2.6403e-02, -4.0567e-03,  1.6367e-03,  5.3788e-03, -4.8036e-03,\n",
      "        -1.1672e-02,  1.9453e-02,  1.0201e-02,  1.1253e-02, -3.5354e-02,\n",
      "         2.5013e-02, -2.0711e-03, -7.9277e-04,  3.7743e-02, -2.4343e-02,\n",
      "        -1.2823e-04,  7.5201e-02, -4.5358e-02,  2.2188e-02, -1.9178e-02,\n",
      "        -2.7239e-02, -3.5703e-02,  1.0314e-02, -2.1555e-06, -3.5248e-02,\n",
      "        -2.1442e-02, -3.2757e-02,  2.8156e-02, -7.2399e-03, -9.2617e-03,\n",
      "        -1.6484e-02,  1.5226e-02, -3.0660e-02, -1.5372e-02,  3.4380e-03,\n",
      "         1.5665e-02, -1.1248e-02, -1.9899e-02, -3.9064e-02,  4.1499e-03,\n",
      "        -1.9762e-03, -1.1701e-02, -2.0029e-02,  1.5029e-02, -7.3606e-03,\n",
      "        -2.7049e-03,  2.5045e-02, -3.7679e-03,  1.3631e-02, -1.5253e-02,\n",
      "         2.1811e-02,  3.2364e-02, -4.3619e-02, -2.1905e-02,  2.2750e-02,\n",
      "        -5.1420e-03, -8.4699e-03,  4.2160e-03, -3.4973e-03])\n",
      "tanh:\n",
      "\n",
      "tensor([ 4.8211e-03, -3.3890e-02,  1.9639e-03, -2.1689e-02,  5.5887e-03,\n",
      "         2.6397e-02, -4.0567e-03,  1.6367e-03,  5.3788e-03, -4.8035e-03,\n",
      "        -1.1671e-02,  1.9451e-02,  1.0200e-02,  1.1253e-02, -3.5339e-02,\n",
      "         2.5008e-02, -2.0711e-03, -7.9277e-04,  3.7726e-02, -2.4338e-02,\n",
      "        -1.2823e-04,  7.5060e-02, -4.5327e-02,  2.2184e-02, -1.9175e-02,\n",
      "        -2.7233e-02, -3.5688e-02,  1.0313e-02, -2.1555e-06, -3.5234e-02,\n",
      "        -2.1439e-02, -3.2746e-02,  2.8149e-02, -7.2398e-03, -9.2614e-03,\n",
      "        -1.6483e-02,  1.5225e-02, -3.0650e-02, -1.5371e-02,  3.4380e-03,\n",
      "         1.5664e-02, -1.1247e-02, -1.9897e-02, -3.9044e-02,  4.1498e-03,\n",
      "        -1.9762e-03, -1.1700e-02, -2.0027e-02,  1.5028e-02, -7.3604e-03,\n",
      "        -2.7049e-03,  2.5039e-02, -3.7679e-03,  1.3630e-02, -1.5252e-02,\n",
      "         2.1807e-02,  3.2352e-02, -4.3591e-02, -2.1901e-02,  2.2746e-02,\n",
      "        -5.1419e-03, -8.4697e-03,  4.2160e-03, -3.4973e-03])\n",
      "arctan:\n",
      "\n",
      "tensor([ 4.8211e-03, -3.3877e-02,  1.9639e-03, -2.1686e-02,  5.5886e-03,\n",
      "         2.6390e-02, -4.0566e-03,  1.6367e-03,  5.3787e-03, -4.8035e-03,\n",
      "        -1.1671e-02,  1.9449e-02,  1.0200e-02,  1.1252e-02, -3.5325e-02,\n",
      "         2.5002e-02, -2.0711e-03, -7.9277e-04,  3.7708e-02, -2.4333e-02,\n",
      "        -1.2823e-04,  7.4919e-02, -4.5296e-02,  2.2181e-02, -1.9173e-02,\n",
      "        -2.7226e-02, -3.5673e-02,  1.0313e-02, -2.1555e-06, -3.5219e-02,\n",
      "        -2.1436e-02, -3.2734e-02,  2.8141e-02, -7.2396e-03, -9.2612e-03,\n",
      "        -1.6481e-02,  1.5224e-02, -3.0640e-02, -1.5370e-02,  3.4380e-03,\n",
      "         1.5663e-02, -1.1247e-02, -1.9894e-02, -3.9024e-02,  4.1498e-03,\n",
      "        -1.9762e-03, -1.1700e-02, -2.0024e-02,  1.5027e-02, -7.3603e-03,\n",
      "        -2.7049e-03,  2.5034e-02, -3.7679e-03,  1.3629e-02, -1.5251e-02,\n",
      "         2.1804e-02,  3.2341e-02, -4.3564e-02, -2.1898e-02,  2.2742e-02,\n",
      "        -5.1419e-03, -8.4695e-03,  4.2160e-03, -3.4973e-03])\n",
      "sigmoid:\n",
      "\n",
      "tensor([0.5012, 0.4915, 0.5005, 0.4946, 0.5014, 0.5066, 0.4990, 0.5004, 0.5013,\n",
      "        0.4988, 0.4971, 0.5049, 0.5025, 0.5028, 0.4912, 0.5063, 0.4995, 0.4998,\n",
      "        0.5094, 0.4939, 0.5000, 0.5187, 0.4887, 0.5055, 0.4952, 0.4932, 0.4911,\n",
      "        0.5026, 0.5000, 0.4912, 0.4946, 0.4918, 0.5070, 0.4982, 0.4977, 0.4959,\n",
      "        0.5038, 0.4923, 0.4962, 0.5009, 0.5039, 0.4972, 0.4950, 0.4902, 0.5010,\n",
      "        0.4995, 0.4971, 0.4950, 0.5038, 0.4982, 0.4993, 0.5063, 0.4991, 0.5034,\n",
      "        0.4962, 0.5055, 0.5081, 0.4891, 0.4945, 0.5057, 0.4987, 0.4979, 0.5011,\n",
      "        0.4991])\n"
     ]
    }
   ],
   "source": [
    "sample = oss[0][0][0][0]\n",
    "print(sample)\n",
    "# apply torch tanh on sample\n",
    "import torch\n",
    "sample = torch.tensor(sample)\n",
    "sample = torch.tanh(sample)\n",
    "print('tanh:\\n')\n",
    "print(sample)\n",
    "# apply arctan on sample\n",
    "sample = torch.atan(sample)\n",
    "print('arctan:\\n')\n",
    "print(sample)\n",
    "# apply sigmoid on sample\n",
    "sample = torch.sigmoid(sample)\n",
    "print('sigmoid:\\n')\n",
    "print(sample)"
   ]
  }
 ],
 "metadata": {
  "kernelspec": {
   "display_name": "icl_mi",
   "language": "python",
   "name": "python3"
  },
  "language_info": {
   "codemirror_mode": {
    "name": "ipython",
    "version": 3
   },
   "file_extension": ".py",
   "mimetype": "text/x-python",
   "name": "python",
   "nbconvert_exporter": "python",
   "pygments_lexer": "ipython3",
   "version": "3.10.14"
  }
 },
 "nbformat": 4,
 "nbformat_minor": 2
}
